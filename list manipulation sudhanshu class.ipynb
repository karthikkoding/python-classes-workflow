{
 "cells": [
  {
   "cell_type": "code",
   "execution_count": 3,
   "id": "407abcf4",
   "metadata": {},
   "outputs": [],
   "source": [
    "l=[\"karthik\", 8976, 7357, 876584.876,[544,567,6], [\"koding\",878,\"kjsadjkh sdauh\"], 78+78j,\"juhgsj kjugsha\"]"
   ]
  },
  {
   "cell_type": "code",
   "execution_count": 6,
   "id": "c887ac07",
   "metadata": {},
   "outputs": [
    {
     "data": {
      "text/plain": [
       "['karthik', 8976, 7357]"
      ]
     },
     "execution_count": 6,
     "metadata": {},
     "output_type": "execute_result"
    }
   ],
   "source": [
    "l[0:3:1]"
   ]
  },
  {
   "cell_type": "code",
   "execution_count": 8,
   "id": "ae9cffa1",
   "metadata": {},
   "outputs": [],
   "source": [
    "l1=l[::-1]"
   ]
  },
  {
   "cell_type": "code",
   "execution_count": 14,
   "id": "e7c9faed",
   "metadata": {},
   "outputs": [],
   "source": [
    "s=[\"karthik\"]"
   ]
  },
  {
   "cell_type": "code",
   "execution_count": 16,
   "id": "5265f818",
   "metadata": {},
   "outputs": [
    {
     "data": {
      "text/plain": [
       "['karthik',\n",
       " 8976,\n",
       " 7357,\n",
       " 876584.876,\n",
       " [544, 567, 6],\n",
       " ['koding', 878, 'kjsadjkh sdauh'],\n",
       " (78+78j),\n",
       " 'juhgsj kjugsha',\n",
       " 'karthik']"
      ]
     },
     "execution_count": 16,
     "metadata": {},
     "output_type": "execute_result"
    }
   ],
   "source": [
    "l+s"
   ]
  },
  {
   "cell_type": "code",
   "execution_count": 17,
   "id": "0a550de7",
   "metadata": {},
   "outputs": [
    {
     "data": {
      "text/plain": [
       "True"
      ]
     },
     "execution_count": 17,
     "metadata": {},
     "output_type": "execute_result"
    }
   ],
   "source": [
    "\"karthik\" in l"
   ]
  },
  {
   "cell_type": "code",
   "execution_count": 18,
   "id": "cd8db758",
   "metadata": {},
   "outputs": [
    {
     "data": {
      "text/plain": [
       "False"
      ]
     },
     "execution_count": 18,
     "metadata": {},
     "output_type": "execute_result"
    }
   ],
   "source": [
    "76 in l"
   ]
  },
  {
   "cell_type": "code",
   "execution_count": 20,
   "id": "e55d4683",
   "metadata": {},
   "outputs": [],
   "source": [
    "a=\"karthik\""
   ]
  },
  {
   "cell_type": "code",
   "execution_count": 22,
   "id": "cc8cabd1",
   "metadata": {},
   "outputs": [
    {
     "data": {
      "text/plain": [
       "'k a r t h i k'"
      ]
     },
     "execution_count": 22,
     "metadata": {},
     "output_type": "execute_result"
    }
   ],
   "source": [
    "\" \".join(a)"
   ]
  },
  {
   "cell_type": "code",
   "execution_count": 24,
   "id": "1a519dbc",
   "metadata": {},
   "outputs": [
    {
     "name": "stdout",
     "output_type": "stream",
     "text": [
      "h\n",
      "c\n",
      "t\n",
      "a\n",
      "b\n",
      " \n",
      "k\n",
      "c\n",
      "a\n",
      "t\n",
      "s\n",
      " \n",
      "l\n",
      "l\n",
      "u\n",
      "f\n",
      " \n",
      "a\n",
      " \n",
      "s\n",
      "i\n",
      " \n",
      "s\n",
      "i\n",
      "h\n",
      "t\n"
     ]
    }
   ],
   "source": [
    "s=\"this is a full stack batch\"\n",
    "\n",
    "for i in range(len(s)):\n",
    "    print(s[-i-1])"
   ]
  },
  {
   "cell_type": "code",
   "execution_count": null,
   "id": "ab991d7c",
   "metadata": {},
   "outputs": [],
   "source": []
  }
 ],
 "metadata": {
  "kernelspec": {
   "display_name": "Python 3 (ipykernel)",
   "language": "python",
   "name": "python3"
  },
  "language_info": {
   "codemirror_mode": {
    "name": "ipython",
    "version": 3
   },
   "file_extension": ".py",
   "mimetype": "text/x-python",
   "name": "python",
   "nbconvert_exporter": "python",
   "pygments_lexer": "ipython3",
   "version": "3.9.7"
  }
 },
 "nbformat": 4,
 "nbformat_minor": 5
}
