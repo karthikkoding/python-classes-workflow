{
 "cells": [
  {
   "cell_type": "code",
   "execution_count": 115,
   "id": "1fdef981",
   "metadata": {},
   "outputs": [],
   "source": [
    "l =[\"karthik\",23, 34, 56.576, 89+8j,True,[\"ijeijds skakjdkxc aswdhkj\",34,4,5,6.78], [\"karthik\",32],34,786,[\"karthikfg\",332]]"
   ]
  },
  {
   "cell_type": "code",
   "execution_count": 2,
   "id": "760a1d96",
   "metadata": {},
   "outputs": [
    {
     "name": "stdout",
     "output_type": "stream",
     "text": [
      " this is not a list karthik\n",
      " this is not a list 23\n",
      " this is not a list 34\n",
      " this is not a list 56.576\n",
      " this is not a list (89+8j)\n",
      " this is a list ['ijeijds skakjdkxc aswdhkj', 34, 4, 5, 6.78]\n"
     ]
    }
   ],
   "source": [
    "for i in l:\n",
    "    if type(i)==list:\n",
    "        print(\" this is a list\", i)\n",
    "    else :\n",
    "        print(\" this is not a list\", i)"
   ]
  },
  {
   "cell_type": "code",
   "execution_count": 17,
   "id": "e62b6627",
   "metadata": {},
   "outputs": [],
   "source": [
    "l1=[\"i neuron\", 23]"
   ]
  },
  {
   "cell_type": "code",
   "execution_count": 6,
   "id": "b855c6eb",
   "metadata": {},
   "outputs": [
    {
     "data": {
      "text/plain": [
       "['karthik',\n",
       " 23,\n",
       " 34,\n",
       " 56.576,\n",
       " (89+8j),\n",
       " ['ijeijds skakjdkxc aswdhkj', 34, 4, 5, 6.78],\n",
       " ['i neuron', 23]]"
      ]
     },
     "execution_count": 6,
     "metadata": {},
     "output_type": "execute_result"
    }
   ],
   "source": [
    "l+l1"
   ]
  },
  {
   "cell_type": "code",
   "execution_count": 7,
   "id": "438a1e87",
   "metadata": {},
   "outputs": [
    {
     "data": {
      "text/plain": [
       "[['i neuron', 23], ['i neuron', 23], ['i neuron', 23]]"
      ]
     },
     "execution_count": 7,
     "metadata": {},
     "output_type": "execute_result"
    }
   ],
   "source": [
    "l1*3"
   ]
  },
  {
   "cell_type": "code",
   "execution_count": 10,
   "id": "4e543472",
   "metadata": {},
   "outputs": [
    {
     "data": {
      "text/plain": [
       "True"
      ]
     },
     "execution_count": 10,
     "metadata": {},
     "output_type": "execute_result"
    }
   ],
   "source": [
    "True in l"
   ]
  },
  {
   "cell_type": "code",
   "execution_count": 14,
   "id": "8d974355",
   "metadata": {},
   "outputs": [
    {
     "data": {
      "text/plain": [
       "(['i neuron', 23], True)"
      ]
     },
     "execution_count": 14,
     "metadata": {},
     "output_type": "execute_result"
    }
   ],
   "source": [
    "['i neuron', 23],['i neuron', 23] in l1*3"
   ]
  },
  {
   "cell_type": "code",
   "execution_count": 18,
   "id": "db0ee070",
   "metadata": {},
   "outputs": [
    {
     "ename": "TypeError",
     "evalue": "'>' not supported between instances of 'int' and 'str'",
     "output_type": "error",
     "traceback": [
      "\u001b[1;31m---------------------------------------------------------------------------\u001b[0m",
      "\u001b[1;31mTypeError\u001b[0m                                 Traceback (most recent call last)",
      "Input \u001b[1;32mIn [18]\u001b[0m, in \u001b[0;36m<cell line: 1>\u001b[1;34m()\u001b[0m\n\u001b[1;32m----> 1\u001b[0m \u001b[38;5;28;43mmax\u001b[39;49m\u001b[43m(\u001b[49m\u001b[43ml1\u001b[49m\u001b[43m)\u001b[49m\n",
      "\u001b[1;31mTypeError\u001b[0m: '>' not supported between instances of 'int' and 'str'"
     ]
    }
   ],
   "source": [
    "max(l1)"
   ]
  },
  {
   "cell_type": "code",
   "execution_count": 19,
   "id": "12d96cfe",
   "metadata": {},
   "outputs": [],
   "source": [
    "l2=[234,4,5,5,56,55,2,2,3,90,44.4,234,4.321]"
   ]
  },
  {
   "cell_type": "code",
   "execution_count": 20,
   "id": "542938f6",
   "metadata": {},
   "outputs": [
    {
     "data": {
      "text/plain": [
       "234"
      ]
     },
     "execution_count": 20,
     "metadata": {},
     "output_type": "execute_result"
    }
   ],
   "source": [
    "max(l2)"
   ]
  },
  {
   "cell_type": "code",
   "execution_count": 25,
   "id": "17b36649",
   "metadata": {},
   "outputs": [],
   "source": [
    "l.append(l2)"
   ]
  },
  {
   "cell_type": "code",
   "execution_count": 26,
   "id": "d2567245",
   "metadata": {},
   "outputs": [
    {
     "data": {
      "text/plain": [
       "['karthik',\n",
       " 23,\n",
       " 34,\n",
       " 56.576,\n",
       " (89+8j),\n",
       " True,\n",
       " ['ijeijds skakjdkxc aswdhkj', 34, 4, 5, 6.78],\n",
       " [234, 4, 5, 5, 56, 55, 2, 2, 3, 90, 44.4, 234, 4.321],\n",
       " [234, 4, 5, 5, 56, 55, 2, 2, 3, 90, 44.4, 234, 4.321],\n",
       " [234, 4, 5, 5, 56, 55, 2, 2, 3, 90, 44.4, 234, 4.321]]"
      ]
     },
     "execution_count": 26,
     "metadata": {},
     "output_type": "execute_result"
    }
   ],
   "source": [
    "l"
   ]
  },
  {
   "cell_type": "code",
   "execution_count": 33,
   "id": "1164d495",
   "metadata": {},
   "outputs": [],
   "source": [
    "l2.insert(3, \"karthikl\")"
   ]
  },
  {
   "cell_type": "code",
   "execution_count": 34,
   "id": "3f5f7ff4",
   "metadata": {},
   "outputs": [
    {
     "data": {
      "text/plain": [
       "[234,\n",
       " 4,\n",
       " 5,\n",
       " 'karthikl',\n",
       " 5,\n",
       " 56,\n",
       " 55,\n",
       " 2,\n",
       " 2,\n",
       " 3,\n",
       " 90,\n",
       " 44.4,\n",
       " 'karthikl',\n",
       " 'karthikl',\n",
       " 'karthikl',\n",
       " 234,\n",
       " 4.321]"
      ]
     },
     "execution_count": 34,
     "metadata": {},
     "output_type": "execute_result"
    }
   ],
   "source": [
    "l2"
   ]
  },
  {
   "cell_type": "code",
   "execution_count": 37,
   "id": "525521bb",
   "metadata": {},
   "outputs": [
    {
     "ename": "TypeError",
     "evalue": "list.count() takes exactly one argument (0 given)",
     "output_type": "error",
     "traceback": [
      "\u001b[1;31m---------------------------------------------------------------------------\u001b[0m",
      "\u001b[1;31mTypeError\u001b[0m                                 Traceback (most recent call last)",
      "Input \u001b[1;32mIn [37]\u001b[0m, in \u001b[0;36m<cell line: 1>\u001b[1;34m()\u001b[0m\n\u001b[1;32m----> 1\u001b[0m \u001b[43ml2\u001b[49m\u001b[38;5;241;43m.\u001b[39;49m\u001b[43mcount\u001b[49m\u001b[43m(\u001b[49m\u001b[43m)\u001b[49m\n",
      "\u001b[1;31mTypeError\u001b[0m: list.count() takes exactly one argument (0 given)"
     ]
    }
   ],
   "source": [
    "l2.count()"
   ]
  },
  {
   "cell_type": "code",
   "execution_count": 38,
   "id": "8f94c270",
   "metadata": {},
   "outputs": [],
   "source": [
    "l.extend(\"fcsdhgjhygfja asdhujfdsah\")"
   ]
  },
  {
   "cell_type": "code",
   "execution_count": 40,
   "id": "35cefd1a",
   "metadata": {},
   "outputs": [],
   "source": [
    "l2.extend(\"karthik\")"
   ]
  },
  {
   "cell_type": "code",
   "execution_count": 41,
   "id": "0061ac80",
   "metadata": {},
   "outputs": [
    {
     "data": {
      "text/plain": [
       "[234,\n",
       " 4,\n",
       " 5,\n",
       " 'karthikl',\n",
       " 5,\n",
       " 56,\n",
       " 55,\n",
       " 2,\n",
       " 2,\n",
       " 3,\n",
       " 90,\n",
       " 44.4,\n",
       " 'karthikl',\n",
       " 'karthikl',\n",
       " 'karthikl',\n",
       " 234,\n",
       " 4.321,\n",
       " 'k',\n",
       " 'a',\n",
       " 'r',\n",
       " 't',\n",
       " 'h',\n",
       " 'i',\n",
       " 'k']"
      ]
     },
     "execution_count": 41,
     "metadata": {},
     "output_type": "execute_result"
    }
   ],
   "source": [
    "l2"
   ]
  },
  {
   "cell_type": "code",
   "execution_count": 42,
   "id": "15535d4f",
   "metadata": {},
   "outputs": [],
   "source": [
    "l2.extend([\"i neuron\", 23])"
   ]
  },
  {
   "cell_type": "code",
   "execution_count": 43,
   "id": "e7e375db",
   "metadata": {},
   "outputs": [
    {
     "data": {
      "text/plain": [
       "[234,\n",
       " 4,\n",
       " 5,\n",
       " 'karthikl',\n",
       " 5,\n",
       " 56,\n",
       " 55,\n",
       " 2,\n",
       " 2,\n",
       " 3,\n",
       " 90,\n",
       " 44.4,\n",
       " 'karthikl',\n",
       " 'karthikl',\n",
       " 'karthikl',\n",
       " 234,\n",
       " 4.321,\n",
       " 'k',\n",
       " 'a',\n",
       " 'r',\n",
       " 't',\n",
       " 'h',\n",
       " 'i',\n",
       " 'k',\n",
       " 'i neuron',\n",
       " 23]"
      ]
     },
     "execution_count": 43,
     "metadata": {},
     "output_type": "execute_result"
    }
   ],
   "source": [
    "l2"
   ]
  },
  {
   "cell_type": "code",
   "execution_count": 46,
   "id": "57796416",
   "metadata": {},
   "outputs": [
    {
     "data": {
      "text/plain": [
       "3"
      ]
     },
     "execution_count": 46,
     "metadata": {},
     "output_type": "execute_result"
    }
   ],
   "source": [
    " l2.index(\"karthikl\")"
   ]
  },
  {
   "cell_type": "code",
   "execution_count": 47,
   "id": "cdec695d",
   "metadata": {},
   "outputs": [
    {
     "ename": "AttributeError",
     "evalue": "'list' object has no attribute 'find'",
     "output_type": "error",
     "traceback": [
      "\u001b[1;31m---------------------------------------------------------------------------\u001b[0m",
      "\u001b[1;31mAttributeError\u001b[0m                            Traceback (most recent call last)",
      "Input \u001b[1;32mIn [47]\u001b[0m, in \u001b[0;36m<cell line: 1>\u001b[1;34m()\u001b[0m\n\u001b[1;32m----> 1\u001b[0m \u001b[43ml2\u001b[49m\u001b[38;5;241;43m.\u001b[39;49m\u001b[43mfind\u001b[49m(\u001b[38;5;124m\"\u001b[39m\u001b[38;5;124mkarthikl\u001b[39m\u001b[38;5;124m\"\u001b[39m)\n",
      "\u001b[1;31mAttributeError\u001b[0m: 'list' object has no attribute 'find'"
     ]
    }
   ],
   "source": [
    "l2.find(\"karthikl\")"
   ]
  },
  {
   "cell_type": "code",
   "execution_count": 58,
   "id": "5305e1fb",
   "metadata": {},
   "outputs": [],
   "source": [
    "l=[1,2,3,4,5,6,6,8,6,3]"
   ]
  },
  {
   "cell_type": "code",
   "execution_count": 56,
   "id": "8d873d65",
   "metadata": {},
   "outputs": [
    {
     "data": {
      "text/plain": [
       "3"
      ]
     },
     "execution_count": 56,
     "metadata": {},
     "output_type": "execute_result"
    }
   ],
   "source": [
    "l.pop(2)"
   ]
  },
  {
   "cell_type": "code",
   "execution_count": 57,
   "id": "c4292128",
   "metadata": {},
   "outputs": [
    {
     "data": {
      "text/plain": [
       "[1, 2, 4, 5, 6, 6, 8, 6, 3]"
      ]
     },
     "execution_count": 57,
     "metadata": {},
     "output_type": "execute_result"
    }
   ],
   "source": [
    "l"
   ]
  },
  {
   "cell_type": "code",
   "execution_count": 59,
   "id": "f59f88dc",
   "metadata": {},
   "outputs": [],
   "source": [
    "l.remove(6)"
   ]
  },
  {
   "cell_type": "code",
   "execution_count": 60,
   "id": "78d5cddb",
   "metadata": {},
   "outputs": [
    {
     "data": {
      "text/plain": [
       "[1, 2, 3, 4, 5, 6, 8, 6, 3]"
      ]
     },
     "execution_count": 60,
     "metadata": {},
     "output_type": "execute_result"
    }
   ],
   "source": [
    "l"
   ]
  },
  {
   "cell_type": "code",
   "execution_count": 61,
   "id": "ac556dd0",
   "metadata": {},
   "outputs": [],
   "source": [
    "l.reverse()"
   ]
  },
  {
   "cell_type": "code",
   "execution_count": 62,
   "id": "36c82d20",
   "metadata": {},
   "outputs": [
    {
     "data": {
      "text/plain": [
       "[3, 6, 8, 6, 5, 4, 3, 2, 1]"
      ]
     },
     "execution_count": 62,
     "metadata": {},
     "output_type": "execute_result"
    }
   ],
   "source": [
    "l"
   ]
  },
  {
   "cell_type": "code",
   "execution_count": 63,
   "id": "162064f5",
   "metadata": {},
   "outputs": [],
   "source": [
    " l.sort()"
   ]
  },
  {
   "cell_type": "code",
   "execution_count": 64,
   "id": "a5c28027",
   "metadata": {},
   "outputs": [
    {
     "data": {
      "text/plain": [
       "[1, 2, 3, 3, 4, 5, 6, 6, 8]"
      ]
     },
     "execution_count": 64,
     "metadata": {},
     "output_type": "execute_result"
    }
   ],
   "source": [
    "l"
   ]
  },
  {
   "cell_type": "code",
   "execution_count": 66,
   "id": "cdf13735",
   "metadata": {},
   "outputs": [],
   "source": [
    "l4=[\"karthik \",23,\"nkjhudwes\"]"
   ]
  },
  {
   "cell_type": "code",
   "execution_count": 67,
   "id": "0029b454",
   "metadata": {},
   "outputs": [],
   "source": [
    "l5=[\"wedu\"]"
   ]
  },
  {
   "cell_type": "code",
   "execution_count": 68,
   "id": "14225ee7",
   "metadata": {},
   "outputs": [],
   "source": [
    "l.append(l4)"
   ]
  },
  {
   "cell_type": "code",
   "execution_count": 69,
   "id": "cad40499",
   "metadata": {},
   "outputs": [],
   "source": [
    "l.append(l5)"
   ]
  },
  {
   "cell_type": "code",
   "execution_count": 70,
   "id": "d83bfa5f",
   "metadata": {},
   "outputs": [],
   "source": [
    "l.insert(4,787+8j)"
   ]
  },
  {
   "cell_type": "code",
   "execution_count": 116,
   "id": "b69b133d",
   "metadata": {},
   "outputs": [
    {
     "data": {
      "text/plain": [
       "['karthik',\n",
       " 23,\n",
       " 34,\n",
       " 56.576,\n",
       " (89+8j),\n",
       " True,\n",
       " ['ijeijds skakjdkxc aswdhkj', 34, 4, 5, 6.78],\n",
       " ['karthik', 32],\n",
       " 34,\n",
       " 786,\n",
       " ['karthikfg', 332]]"
      ]
     },
     "execution_count": 116,
     "metadata": {},
     "output_type": "execute_result"
    }
   ],
   "source": [
    "l"
   ]
  },
  {
   "cell_type": "code",
   "execution_count": 117,
   "id": "5385234d",
   "metadata": {},
   "outputs": [
    {
     "name": "stdout",
     "output_type": "stream",
     "text": [
      "list is found at 6 and  string index is 0\n",
      "list is found at 7 and  string index is 0\n",
      "list is found at 10 and  string index is 0\n"
     ]
    }
   ],
   "source": [
    "for i in l:\n",
    "    if type(i)== list:\n",
    "        for j in i:\n",
    "            if type(j)==str:\n",
    "                print(\"list is found at {} and  string index is {}\".format(l.index(i),i.index(j)))\n",
    "                i.remove(j)"
   ]
  },
  {
   "cell_type": "code",
   "execution_count": 118,
   "id": "cc0dc5bf",
   "metadata": {},
   "outputs": [
    {
     "data": {
      "text/plain": [
       "['karthik',\n",
       " 23,\n",
       " 34,\n",
       " 56.576,\n",
       " (89+8j),\n",
       " True,\n",
       " [34, 4, 5, 6.78],\n",
       " [32],\n",
       " 34,\n",
       " 786,\n",
       " [332]]"
      ]
     },
     "execution_count": 118,
     "metadata": {},
     "output_type": "execute_result"
    }
   ],
   "source": [
    "l"
   ]
  },
  {
   "cell_type": "code",
   "execution_count": null,
   "id": "cd5780d3",
   "metadata": {},
   "outputs": [],
   "source": [
    "for i in l:\n",
    "    if type(i)== list:\n",
    "        for j in range(len(i)):\n",
    "            if type(i[j])==str:\n",
    "                print(j)\n",
    "                i.remove(j[i])"
   ]
  },
  {
   "cell_type": "code",
   "execution_count": 80,
   "id": "d87336cb",
   "metadata": {},
   "outputs": [
    {
     "data": {
      "text/plain": [
       "['karthik',\n",
       " 23,\n",
       " 34,\n",
       " 56.576,\n",
       " (89+8j),\n",
       " True,\n",
       " ['ijeijds skakjdkxc aswdhkj', 34, 4, 5, 6.78]]"
      ]
     },
     "execution_count": 80,
     "metadata": {},
     "output_type": "execute_result"
    }
   ],
   "source": [
    "l"
   ]
  },
  {
   "cell_type": "code",
   "execution_count": 81,
   "id": "11e745ad",
   "metadata": {},
   "outputs": [],
   "source": [
    "for i in l:\n",
    "    if i==list:\n",
    "        for j in range(len(i)):\n",
    "            if j==1:\n",
    "                print(j[i])\n"
   ]
  },
  {
   "cell_type": "code",
   "execution_count": 119,
   "id": "6ad1eb74",
   "metadata": {},
   "outputs": [],
   "source": [
    "k=[1,2,3,4,5,6,7]"
   ]
  },
  {
   "cell_type": "code",
   "execution_count": 122,
   "id": "bad0e1cd",
   "metadata": {},
   "outputs": [],
   "source": [
    "k.append(\"karthik\")"
   ]
  },
  {
   "cell_type": "code",
   "execution_count": 124,
   "id": "e72a2711",
   "metadata": {},
   "outputs": [
    {
     "data": {
      "text/plain": [
       "[1, 2, 3, 4, 5, 6, 7, 'karthik', 'karthik']"
      ]
     },
     "execution_count": 124,
     "metadata": {},
     "output_type": "execute_result"
    }
   ],
   "source": [
    "k"
   ]
  },
  {
   "cell_type": "code",
   "execution_count": 129,
   "id": "4db9d656",
   "metadata": {},
   "outputs": [
    {
     "data": {
      "text/plain": [
       "[[1], [2], [3], [4], [5], [6], [7], ['karthik'], ['karthik']]"
      ]
     },
     "execution_count": 129,
     "metadata": {},
     "output_type": "execute_result"
    }
   ],
   "source": [
    "[[i] for i in k]"
   ]
  },
  {
   "cell_type": "code",
   "execution_count": 130,
   "id": "9fe54d61",
   "metadata": {},
   "outputs": [],
   "source": [
    "k=[]"
   ]
  },
  {
   "cell_type": "code",
   "execution_count": 131,
   "id": "4ad728ac",
   "metadata": {},
   "outputs": [
    {
     "data": {
      "text/plain": [
       "[0, 2, 4, 6, 8]"
      ]
     },
     "execution_count": 131,
     "metadata": {},
     "output_type": "execute_result"
    }
   ],
   "source": [
    "[i for i in range(10) if i%2==0]"
   ]
  },
  {
   "cell_type": "code",
   "execution_count": 135,
   "id": "de303361",
   "metadata": {},
   "outputs": [
    {
     "data": {
      "text/plain": [
       "['even',\n",
       " 'odd ',\n",
       " 'even',\n",
       " 'odd ',\n",
       " 'even',\n",
       " 'odd ',\n",
       " 'even',\n",
       " 'odd ',\n",
       " 'even',\n",
       " 'odd ']"
      ]
     },
     "execution_count": 135,
     "metadata": {},
     "output_type": "execute_result"
    }
   ],
   "source": [
    "[\"odd \" if i%2!=0 else \"even\" for i in range(10)]"
   ]
  },
  {
   "cell_type": "code",
   "execution_count": 137,
   "id": "8545bee1",
   "metadata": {},
   "outputs": [
    {
     "data": {
      "text/plain": [
       "[[0, 1, 2], [0, 1, 2], [0, 1, 2]]"
      ]
     },
     "execution_count": 137,
     "metadata": {},
     "output_type": "execute_result"
    }
   ],
   "source": [
    "[[j for j in range(3)] for i in range(3)]"
   ]
  },
  {
   "cell_type": "code",
   "execution_count": 141,
   "id": "3e0d03d9",
   "metadata": {},
   "outputs": [
    {
     "data": {
      "text/plain": [
       "[[], [], []]"
      ]
     },
     "execution_count": 141,
     "metadata": {},
     "output_type": "execute_result"
    }
   ],
   "source": [
    "[[] for i in range(3)]"
   ]
  },
  {
   "cell_type": "code",
   "execution_count": null,
   "id": "72aa61b0",
   "metadata": {},
   "outputs": [],
   "source": []
  }
 ],
 "metadata": {
  "kernelspec": {
   "display_name": "Python 3 (ipykernel)",
   "language": "python",
   "name": "python3"
  },
  "language_info": {
   "codemirror_mode": {
    "name": "ipython",
    "version": 3
   },
   "file_extension": ".py",
   "mimetype": "text/x-python",
   "name": "python",
   "nbconvert_exporter": "python",
   "pygments_lexer": "ipython3",
   "version": "3.9.12"
  }
 },
 "nbformat": 4,
 "nbformat_minor": 5
}
