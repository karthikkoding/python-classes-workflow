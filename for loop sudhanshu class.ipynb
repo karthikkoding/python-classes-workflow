{
 "cells": [
  {
   "cell_type": "code",
   "execution_count": 5,
   "id": "3cbba56f",
   "metadata": {},
   "outputs": [
    {
     "name": "stdout",
     "output_type": "stream",
     "text": [
      "this is a invalid statement\n"
     ]
    }
   ],
   "source": [
    "a=10\n",
    "b=15\n",
    "\n",
    "if a==10 and b>20:\n",
    "    print(\"this is a valid statement\")\n",
    "elif a==10 and b>=20:\n",
    "    print(\"it is valid inside a elif statement\")\n",
    "else :\n",
    "    print(\"this is a invalid statement\")"
   ]
  },
  {
   "cell_type": "code",
   "execution_count": 11,
   "id": "9878d75f",
   "metadata": {},
   "outputs": [
    {
     "name": "stdout",
     "output_type": "stream",
     "text": [
      "this is my speed 2\n",
      "this is my speed 3\n",
      "this is my speed 4\n",
      "this is my speed 5\n",
      "this is my speed 6\n",
      "this is my speed 7\n",
      "this is my speed 8\n",
      "this is my speed 9\n",
      "this is my speed 10\n",
      "this is my speed 11\n",
      "this is my speed 12\n",
      "this is my speed 13\n",
      "this is my speed 14\n",
      "this is my speed 15\n",
      "this is my speed 16\n",
      "this is my speed 17\n",
      "this is my speed 18\n",
      "this is my speed 19\n",
      "this is my speed 20\n",
      "this is my speed 21\n",
      "this is my speed 22\n",
      "this is my speed 23\n",
      "this is my speed 24\n",
      "this is my speed 25\n",
      "this is my speed 26\n",
      "this is my speed 27\n",
      "this is my speed 28\n",
      "this is my speed 29\n",
      "this is my speed 30\n",
      "this is my speed 31\n",
      "this is my speed 32\n",
      "this is my speed 33\n",
      "this is my speed 34\n",
      "this is my speed 35\n",
      "this is my speed 36\n",
      "this is my speed 37\n",
      "this is my speed 38\n",
      "this is my speed 39\n",
      "this is my speed 40\n",
      "this is my speed 41\n",
      "this is my speed 42\n",
      "this is my speed 43\n",
      "this is my speed 44\n",
      "this is my speed 45\n",
      "this is my speed 46\n",
      "this is my speed 47\n",
      "this is my speed 48\n",
      "this is my speed 49\n",
      "this is my speed 50\n",
      "this is my speed 51\n",
      "this is my speed 52\n",
      "this is my speed 53\n",
      "this is my speed 54\n",
      "this is my speed 55\n",
      "this is my speed 56\n",
      "this is my speed 57\n",
      "this is my speed 58\n",
      "this is my speed 59\n",
      "this is my speed 60\n",
      "this is my speed 61\n",
      "this is my speed 62\n",
      "this is my speed 63\n",
      "this is my speed 64\n",
      "this is my speed 65\n",
      "this is my speed 66\n",
      "this is my speed 67\n",
      "this is my speed 68\n",
      "this is my speed 69\n",
      "this is my speed 70\n",
      "this is my speed 71\n",
      "this is my speed 72\n",
      "this is my speed 73\n",
      "this is my speed 74\n",
      "this is my speed 75\n",
      "this is my speed 76\n",
      "this is my speed 77\n",
      "this is my speed 78\n",
      "this is my speed 79\n",
      "this is my speed 80\n",
      "this is my speed 81\n",
      "this is my speed 82\n",
      "this is my speed 83\n",
      "this is my speed 84\n",
      "this is my speed 85\n",
      "this is my speed 86\n",
      "this is my speed 87\n",
      "this is my speed 88\n",
      "this is my speed 89\n",
      "this is my speed 90\n",
      "this is my speed 91\n",
      "this is my speed 92\n",
      "this is my speed 93\n",
      "this is my speed 94\n",
      "this is my speed 95\n",
      "this is my speed 96\n",
      "this is my speed 97\n",
      "this is my speed 98\n",
      "this is my speed 99\n",
      "this is my speed 100\n"
     ]
    }
   ],
   "source": [
    "ins=0\n",
    "fns=100\n",
    "count=1\n",
    "while ins < fns :\n",
    "    print(\"this is my speed \"+ str(count+1))\n",
    "    count=count+1\n",
    "    if count==100:\n",
    "        break"
   ]
  },
  {
   "cell_type": "code",
   "execution_count": 21,
   "id": "3de14561",
   "metadata": {},
   "outputs": [],
   "source": [
    "S= \"Karthik is awesome\"\n"
   ]
  },
  {
   "cell_type": "code",
   "execution_count": 30,
   "id": "255016b8",
   "metadata": {},
   "outputs": [
    {
     "data": {
      "text/plain": [
       "'tkswo'"
      ]
     },
     "execution_count": 30,
     "metadata": {},
     "output_type": "execute_result"
    }
   ],
   "source": [
    "S[3:20:3]"
   ]
  },
  {
   "cell_type": "code",
   "execution_count": 33,
   "id": "5019e2e7",
   "metadata": {},
   "outputs": [
    {
     "data": {
      "text/plain": [
       "'emosewa si kihtraK'"
      ]
     },
     "execution_count": 33,
     "metadata": {},
     "output_type": "execute_result"
    }
   ],
   "source": [
    "S[::-1]"
   ]
  },
  {
   "cell_type": "code",
   "execution_count": 34,
   "id": "5d295c99",
   "metadata": {},
   "outputs": [],
   "source": [
    "s=\"my name is sudhanshu\""
   ]
  },
  {
   "cell_type": "code",
   "execution_count": 45,
   "id": "8cef5464",
   "metadata": {},
   "outputs": [
    {
     "name": "stdout",
     "output_type": "stream",
     "text": [
      "m\n",
      "y\n",
      " \n",
      "n\n",
      "a\n",
      "m\n",
      "e\n",
      " \n",
      "i\n",
      "s\n",
      " \n",
      "s\n",
      "u\n",
      "d\n",
      "over\n"
     ]
    }
   ],
   "source": [
    "for i in s:\n",
    "    if i==\"h\":\n",
    "        break\n",
    "    print(i)\n",
    "else:\n",
    "    if i==\"d\":\n",
    "        print(\"got\")\n",
    "print(\"over\")    "
   ]
  },
  {
   "cell_type": "code",
   "execution_count": 47,
   "id": "d631fd9b",
   "metadata": {},
   "outputs": [
    {
     "name": "stdout",
     "output_type": "stream",
     "text": [
      "m\n",
      "y\n",
      " \n",
      "a\n",
      "m\n",
      "e\n",
      " \n",
      "i\n",
      "s\n",
      " \n",
      "s\n",
      "u\n",
      "d\n",
      "h\n",
      "a\n",
      "s\n",
      "h\n",
      "u\n",
      "over\n"
     ]
    }
   ],
   "source": [
    "  for i in s:\n",
    "    if i==\"n\":\n",
    "        continue\n",
    "    print(i)\n",
    "else:\n",
    "    if i==\"d\":\n",
    "        print(\"got\")\n",
    "print(\"over\")   "
   ]
  },
  {
   "cell_type": "code",
   "execution_count": 51,
   "id": "c6e7aeab",
   "metadata": {},
   "outputs": [],
   "source": [
    "s= \"ineuron\"\n",
    "ss=\"\"\n",
    "for i in s:\n",
    "    if i==\"n\":\n",
    "        continue\n",
    "    else :\n",
    "        ss=ss+i\n",
    "    "
   ]
  },
  {
   "cell_type": "code",
   "execution_count": 52,
   "id": "ee2493ef",
   "metadata": {},
   "outputs": [
    {
     "data": {
      "text/plain": [
       "'ieuro'"
      ]
     },
     "execution_count": 52,
     "metadata": {},
     "output_type": "execute_result"
    }
   ],
   "source": [
    "ss"
   ]
  },
  {
   "cell_type": "code",
   "execution_count": 53,
   "id": "f6cf8df1",
   "metadata": {},
   "outputs": [
    {
     "data": {
      "text/plain": [
       "'krthik is n mzing person nd defult he is very genuine'"
      ]
     },
     "execution_count": 53,
     "metadata": {},
     "output_type": "execute_result"
    }
   ],
   "source": [
    "k=\"karthik is an amazing person and default he is very genuine\"\n",
    "\n",
    "kk=\"\"\n",
    "\n",
    "for i in k:\n",
    "    if i==\"a\":\n",
    "        continue\n",
    "    kk=kk+i\n",
    "kk"
   ]
  },
  {
   "cell_type": "code",
   "execution_count": 64,
   "id": "a2685b29",
   "metadata": {},
   "outputs": [
    {
     "name": "stdout",
     "output_type": "stream",
     "text": [
      "\r\n",
      "* \r\n",
      "* * * * \r\n",
      "* * * * * * * \r\n",
      "* * * * * * * * * * \r\n",
      "* * * * * * * * * * * * * \r\n",
      "* * * * * * * * * * * * * * * * \r\n"
     ]
    }
   ],
   "source": [
    "n=7\n",
    "\n",
    "for i in range(0,n):\n",
    "    for j in range(0, 3*i-2):\n",
    "        print(\"* \", end=\"\")\n",
    "    print(\"\\r\")\n",
    "        "
   ]
  },
  {
   "cell_type": "code",
   "execution_count": 117,
   "id": "88039f04",
   "metadata": {},
   "outputs": [
    {
     "name": "stdout",
     "output_type": "stream",
     "text": [
      "*  *  *  *  *  *  *  *  *  *  *  *  *  *  *  *  \r\n",
      "*  *  *  *  *  *  *  *  *  *  *  *  *  *  *  \r\n",
      "*  *  *  *  *  *  *  *  *  *  *  *  *  *  \r\n",
      "*  *  *  *  *  *  *  *  *  *  *  *  *  \r\n",
      "*  *  *  *  *  *  *  *  *  *  *  *  \r\n",
      "*  *  *  *  *  *  *  *  *  *  *  \r\n",
      "*  *  *  *  *  *  *  *  *  *  \r\n",
      "*  *  *  *  *  *  *  *  *  \r\n"
     ]
    }
   ],
   "source": [
    "n= 8\n",
    "for i in range(0,n):\n",
    "    for j in range (0,2*n-i):\n",
    "        print(\"* \", end=\" \")\n",
    "    print(\"\\r\")"
   ]
  },
  {
   "cell_type": "code",
   "execution_count": 111,
   "id": "2d3866aa",
   "metadata": {},
   "outputs": [
    {
     "name": "stdout",
     "output_type": "stream",
     "text": [
      "enter the now of rows to make pattern :10\n",
      "* * * * * * * * * * * * * * * * * * * \n",
      "  * * * * * * * * * * * * * * * * * \n",
      "    * * * * * * * * * * * * * * * \n",
      "      * * * * * * * * * * * * * \n",
      "        * * * * * * * * * * * \n",
      "          * * * * * * * * * \n",
      "            * * * * * * * \n",
      "              * * * * * \n",
      "                * * * \n",
      "                  * \n"
     ]
    }
   ],
   "source": [
    "n = int(input(\"enter the now of rows to make pattern :\"))\n",
    "\n",
    "for i in range(n,0,-1):\n",
    "    for j in range(n-i):\n",
    "        print(\" \", end=\" \")\n",
    "    for j in range(2*i-1):\n",
    "        print(\"*\", end=\" \")\n",
    "    print(\"\\r\")"
   ]
  },
  {
   "cell_type": "code",
   "execution_count": 133,
   "id": "63686dd6",
   "metadata": {},
   "outputs": [
    {
     "name": "stdout",
     "output_type": "stream",
     "text": [
      "enter the now of rows to make pattern :10\n",
      "* * * * * * * * * * \n",
      " * * * * * * * * * \n",
      "  * * * * * * * * \n",
      "   * * * * * * * \n",
      "    * * * * * * \n",
      "     * * * * * \n",
      "      * * * * \n",
      "       * * * \n",
      "        * * \n",
      "         * \n"
     ]
    }
   ],
   "source": [
    "#pattern printing \n",
    "n= int(input(\"enter the now of rows to make pattern :\"))\n",
    "for i in range(n,0,-1):\n",
    "    for j in range (n-i):\n",
    "        print(end=\" \")\n",
    "    for j in range (0,i):\n",
    "        print(\"* \", end=\"\")\n",
    "    print(\"\\r\")"
   ]
  },
  {
   "cell_type": "code",
   "execution_count": 163,
   "id": "80cdc8f3",
   "metadata": {},
   "outputs": [
    {
     "name": "stdout",
     "output_type": "stream",
     "text": [
      "enter the now of rows to make pattern :5\n",
      "           \n",
      "        *  \n",
      "      * * *  \n",
      "    * * * * *  \n",
      "  * * * * * * *  \n"
     ]
    }
   ],
   "source": [
    "n= int(input(\"enter the now of rows to make pattern :\"))\n",
    "i=0\n",
    "while i<n:\n",
    "    print(\" \"*(2*(n-i))+ \"* \"*(2*i-1), end=\" \")\n",
    "    i=i+1\n",
    "    print(\"\\r\")\n",
    "\n",
    "    #print pattern for gaussian distribution without using while loop"
   ]
  },
  {
   "cell_type": "code",
   "execution_count": null,
   "id": "f141405f",
   "metadata": {},
   "outputs": [],
   "source": []
  }
 ],
 "metadata": {
  "kernelspec": {
   "display_name": "Python 3 (ipykernel)",
   "language": "python",
   "name": "python3"
  },
  "language_info": {
   "codemirror_mode": {
    "name": "ipython",
    "version": 3
   },
   "file_extension": ".py",
   "mimetype": "text/x-python",
   "name": "python",
   "nbconvert_exporter": "python",
   "pygments_lexer": "ipython3",
   "version": "3.9.7"
  }
 },
 "nbformat": 4,
 "nbformat_minor": 5
}
