{
 "cells": [
  {
   "cell_type": "code",
   "execution_count": 2,
   "id": "07aa2f77",
   "metadata": {},
   "outputs": [],
   "source": [
    "import logging as lg\n",
    "import os"
   ]
  },
  {
   "cell_type": "code",
   "execution_count": 3,
   "id": "ac8a6099",
   "metadata": {},
   "outputs": [],
   "source": [
    "os.mkdir(\"logs\")"
   ]
  },
  {
   "cell_type": "code",
   "execution_count": 4,
   "id": "18ee0729",
   "metadata": {},
   "outputs": [],
   "source": [
    "os.chdir(os.getcwd()+ \"/\" + \"logs\")"
   ]
  },
  {
   "cell_type": "code",
   "execution_count": 5,
   "id": "ea222695",
   "metadata": {},
   "outputs": [
    {
     "data": {
      "text/plain": [
       "'C:\\\\Users\\\\svkar\\\\Untitled Folder\\\\temp\\\\logs'"
      ]
     },
     "execution_count": 5,
     "metadata": {},
     "output_type": "execute_result"
    }
   ],
   "source": [
    "pwd"
   ]
  },
  {
   "cell_type": "code",
   "execution_count": 6,
   "id": "3c846466",
   "metadata": {},
   "outputs": [],
   "source": [
    "lg.basicConfig(filename= 'test.log', level=lg.ERROR, format = '%(asctime)s %(message)s')"
   ]
  },
  {
   "cell_type": "code",
   "execution_count": 10,
   "id": "88ab7867",
   "metadata": {},
   "outputs": [],
   "source": [
    "lg.info(\" i am going to start my program\")"
   ]
  },
  {
   "cell_type": "code",
   "execution_count": 11,
   "id": "b7aa8da4",
   "metadata": {},
   "outputs": [],
   "source": [
    "lg.warning(\" this is a first warning of my program\")"
   ]
  },
  {
   "cell_type": "code",
   "execution_count": 12,
   "id": "74801c1b",
   "metadata": {},
   "outputs": [],
   "source": [
    "lg.error(\"this is a error\")"
   ]
  },
  {
   "cell_type": "code",
   "execution_count": 26,
   "id": "f3a2d0ac",
   "metadata": {},
   "outputs": [],
   "source": [
    "def test(a,b):\n",
    "    \n",
    "    try:\n",
    "        lg.info(str(a)+str(b))\n",
    "        div=a/b\n",
    "        return div\n",
    "    except Exception as e:\n",
    "        print(\" chcek your log for more info on error\")\n",
    "        lg.error(\"error has occured\")\n",
    "        lg.exception(str(e))\n",
    "    "
   ]
  },
  {
   "cell_type": "code",
   "execution_count": 27,
   "id": "55b6f550",
   "metadata": {},
   "outputs": [
    {
     "name": "stdout",
     "output_type": "stream",
     "text": [
      " chcek your log for more info on error\n"
     ]
    }
   ],
   "source": [
    "test(4,0)"
   ]
  },
  {
   "cell_type": "code",
   "execution_count": 12,
   "id": "05c1cdab",
   "metadata": {},
   "outputs": [],
   "source": [
    "\n",
    "def test2(a,b):\n",
    "    lg.info(\" started the code\")\n",
    "    return a+b"
   ]
  },
  {
   "cell_type": "code",
   "execution_count": 13,
   "id": "f0766c54",
   "metadata": {},
   "outputs": [
    {
     "data": {
      "text/plain": [
       "13"
      ]
     },
     "execution_count": 13,
     "metadata": {},
     "output_type": "execute_result"
    }
   ],
   "source": [
    "test2(6,7)"
   ]
  },
  {
   "cell_type": "code",
   "execution_count": 14,
   "id": "b895b714",
   "metadata": {},
   "outputs": [],
   "source": [
    "lg.shutdown()"
   ]
  },
  {
   "cell_type": "code",
   "execution_count": 19,
   "id": "947572f6",
   "metadata": {},
   "outputs": [],
   "source": [
    "lg.info(\"i am going to start my program\")\n",
    "lg.warning(\"this is a first warning of my program\")\n",
    "lg.error(\"this is a error\")\n",
    "lg.exception(\"this is  exception\")\n",
    "lg.critical(\" this is critical\")"
   ]
  },
  {
   "cell_type": "code",
   "execution_count": 20,
   "id": "2e9ff05b",
   "metadata": {},
   "outputs": [],
   "source": [
    "lg.shutdown()"
   ]
  },
  {
   "cell_type": "code",
   "execution_count": null,
   "id": "6a047175",
   "metadata": {},
   "outputs": [],
   "source": []
  }
 ],
 "metadata": {
  "kernelspec": {
   "display_name": "Python 3 (ipykernel)",
   "language": "python",
   "name": "python3"
  },
  "language_info": {
   "codemirror_mode": {
    "name": "ipython",
    "version": 3
   },
   "file_extension": ".py",
   "mimetype": "text/x-python",
   "name": "python",
   "nbconvert_exporter": "python",
   "pygments_lexer": "ipython3",
   "version": "3.9.7"
  }
 },
 "nbformat": 4,
 "nbformat_minor": 5
}
