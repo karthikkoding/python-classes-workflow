{
 "cells": [
  {
   "cell_type": "code",
   "execution_count": 1,
   "id": "87e92f47",
   "metadata": {},
   "outputs": [],
   "source": [
    "f= open(\"text.txt\",\"w\")"
   ]
  },
  {
   "cell_type": "code",
   "execution_count": 2,
   "id": "31667a85",
   "metadata": {},
   "outputs": [
    {
     "data": {
      "text/plain": [
       "22"
      ]
     },
     "execution_count": 2,
     "metadata": {},
     "output_type": "execute_result"
    }
   ],
   "source": [
    "f.write(r\"karthik is a great man\")"
   ]
  },
  {
   "cell_type": "code",
   "execution_count": 5,
   "id": "43dd8945",
   "metadata": {},
   "outputs": [],
   "source": [
    "f.close()"
   ]
  },
  {
   "cell_type": "code",
   "execution_count": 13,
   "id": "2ef58e88",
   "metadata": {},
   "outputs": [],
   "source": [
    "f=open(\"text.txt\",\"r\")"
   ]
  },
  {
   "cell_type": "code",
   "execution_count": 10,
   "id": "c0141b91",
   "metadata": {},
   "outputs": [
    {
     "data": {
      "text/plain": [
       "11"
      ]
     },
     "execution_count": 10,
     "metadata": {},
     "output_type": "execute_result"
    }
   ],
   "source": [
    "f.write(\"jgsfdjjkfsa\")"
   ]
  },
  {
   "cell_type": "code",
   "execution_count": 17,
   "id": "331eed78",
   "metadata": {},
   "outputs": [
    {
     "data": {
      "text/plain": [
       "'jgsfdjjkfs'"
      ]
     },
     "execution_count": 17,
     "metadata": {},
     "output_type": "execute_result"
    }
   ],
   "source": [
    "f.read(10)"
   ]
  },
  {
   "cell_type": "code",
   "execution_count": 16,
   "id": "edd2b75a",
   "metadata": {},
   "outputs": [
    {
     "data": {
      "text/plain": [
       "0"
      ]
     },
     "execution_count": 16,
     "metadata": {},
     "output_type": "execute_result"
    }
   ],
   "source": [
    "f.seek(0)"
   ]
  },
  {
   "cell_type": "code",
   "execution_count": null,
   "id": "ba89c058",
   "metadata": {},
   "outputs": [],
   "source": [
    "f.read()"
   ]
  },
  {
   "cell_type": "code",
   "execution_count": null,
   "id": "71f70bfb",
   "metadata": {},
   "outputs": [],
   "source": [
    "f.flush()"
   ]
  },
  {
   "cell_type": "code",
   "execution_count": null,
   "id": "5a9cf1d6",
   "metadata": {},
   "outputs": [],
   "source": [
    "f.close()"
   ]
  },
  {
   "cell_type": "code",
   "execution_count": 20,
   "id": "f4b7c303",
   "metadata": {},
   "outputs": [],
   "source": [
    "f=open(\"test.txt\",'w')"
   ]
  },
  {
   "cell_type": "code",
   "execution_count": 21,
   "id": "8efa1ff2",
   "metadata": {},
   "outputs": [
    {
     "data": {
      "text/plain": [
       "<_io.TextIOWrapper name='test.txt' mode='w' encoding='cp1252'>"
      ]
     },
     "execution_count": 21,
     "metadata": {},
     "output_type": "execute_result"
    }
   ],
   "source": [
    "f"
   ]
  },
  {
   "cell_type": "code",
   "execution_count": 23,
   "id": "e3b29dbf",
   "metadata": {},
   "outputs": [],
   "source": [
    "f=open(\"test.txt\",'a')"
   ]
  },
  {
   "cell_type": "code",
   "execution_count": 24,
   "id": "a9e4ee87",
   "metadata": {},
   "outputs": [
    {
     "data": {
      "text/plain": [
       "9"
      ]
     },
     "execution_count": 24,
     "metadata": {},
     "output_type": "execute_result"
    }
   ],
   "source": [
    "f.write(\"Karthiuik\")"
   ]
  },
  {
   "cell_type": "code",
   "execution_count": 26,
   "id": "42fc6e6f",
   "metadata": {},
   "outputs": [],
   "source": [
    "f.close()"
   ]
  },
  {
   "cell_type": "code",
   "execution_count": 28,
   "id": "d553cce8",
   "metadata": {},
   "outputs": [],
   "source": [
    "f=open(\"test1.txt\",\"wb\")"
   ]
  },
  {
   "cell_type": "code",
   "execution_count": 30,
   "id": "e332b681",
   "metadata": {},
   "outputs": [
    {
     "data": {
      "text/plain": [
       "17"
      ]
     },
     "execution_count": 30,
     "metadata": {},
     "output_type": "execute_result"
    }
   ],
   "source": [
    "f.write(b\"karthik is amzing\")"
   ]
  },
  {
   "cell_type": "code",
   "execution_count": 35,
   "id": "06d25964",
   "metadata": {},
   "outputs": [],
   "source": [
    "f.close()"
   ]
  },
  {
   "cell_type": "code",
   "execution_count": 51,
   "id": "4206a313",
   "metadata": {},
   "outputs": [],
   "source": [
    "f=open(\"test.txt\",\"r\")"
   ]
  },
  {
   "cell_type": "code",
   "execution_count": 41,
   "id": "f830caea",
   "metadata": {},
   "outputs": [
    {
     "data": {
      "text/plain": [
       "'efdrshfKarthiuik\\nsafhjvcxjh\\nwdsaczkxbjhbd\\nadshvghvas\\nawdsjhbvhjgqeafs\\nwdasvhgjwdasjknwdq\\nwqdavjhwadsbvjkwd\\naswdjbvjhawdsbhk\\nawsdjkbwajs'"
      ]
     },
     "execution_count": 41,
     "metadata": {},
     "output_type": "execute_result"
    }
   ],
   "source": [
    " f.read()"
   ]
  },
  {
   "cell_type": "code",
   "execution_count": 48,
   "id": "f2162b2b",
   "metadata": {},
   "outputs": [
    {
     "name": "stdout",
     "output_type": "stream",
     "text": [
      "efdrshfKarthiuik\n",
      "safhjvcxjh\n",
      "wdsaczkxbjhbd\n",
      "adshvghvas\n",
      "awdsjhbvhjgqeafs\n",
      "wdasvhgjwdasjknwdq\n",
      "wqdavjhwadsbvjkwd\n",
      "aswdjbvjhawdsbhk\n",
      "awsdjkbwajs"
     ]
    }
   ],
   "source": [
    "for i in f:\n",
    "    print(i,end=\"\")\n",
    "    \n",
    "    "
   ]
  },
  {
   "cell_type": "code",
   "execution_count": 53,
   "id": "b33f5fa7",
   "metadata": {},
   "outputs": [],
   "source": [
    "f.close()"
   ]
  },
  {
   "cell_type": "code",
   "execution_count": 52,
   "id": "810dbf1d",
   "metadata": {},
   "outputs": [
    {
     "data": {
      "text/plain": [
       "['efdrshfKarthiuik\\n',\n",
       " 'safhjvcxjh\\n',\n",
       " 'wdsaczkxbjhbd\\n',\n",
       " 'adshvghvas\\n',\n",
       " 'awdsjhbvhjgqeafs\\n',\n",
       " 'wdasvhgjwdasjknwdq\\n',\n",
       " 'wqdavjhwadsbvjkwd\\n',\n",
       " 'aswdjbvjhawdsbhk\\n',\n",
       " 'awsdjkbwajs']"
      ]
     },
     "execution_count": 52,
     "metadata": {},
     "output_type": "execute_result"
    }
   ],
   "source": [
    "list(f)"
   ]
  },
  {
   "cell_type": "code",
   "execution_count": 63,
   "id": "e340de50",
   "metadata": {},
   "outputs": [],
   "source": [
    "f=open(\"test.txt\",\"r+\")"
   ]
  },
  {
   "cell_type": "code",
   "execution_count": 61,
   "id": "d6a7cbff",
   "metadata": {},
   "outputs": [],
   "source": [
    "f.writelines(\"edsafhg  ehdshsdah\")"
   ]
  },
  {
   "cell_type": "code",
   "execution_count": 65,
   "id": "172b50d6",
   "metadata": {},
   "outputs": [],
   "source": [
    "f.close()"
   ]
  },
  {
   "cell_type": "code",
   "execution_count": 64,
   "id": "5953d0e2",
   "metadata": {},
   "outputs": [
    {
     "data": {
      "text/plain": [
       "6"
      ]
     },
     "execution_count": 64,
     "metadata": {},
     "output_type": "execute_result"
    }
   ],
   "source": [
    "f.fileno()"
   ]
  },
  {
   "cell_type": "code",
   "execution_count": 66,
   "id": "cb954445",
   "metadata": {},
   "outputs": [
    {
     "name": "stdout",
     "output_type": "stream",
     "text": [
      "Writing test5.txt\n"
     ]
    }
   ],
   "source": [
    "%%writefile test5.txt\n",
    "\n",
    "my name is karthik"
   ]
  },
  {
   "cell_type": "code",
   "execution_count": 67,
   "id": "9fd5237d",
   "metadata": {},
   "outputs": [],
   "source": [
    "import os"
   ]
  },
  {
   "cell_type": "code",
   "execution_count": 68,
   "id": "8a0b9784",
   "metadata": {},
   "outputs": [
    {
     "data": {
      "text/plain": [
       "'C:\\\\Users\\\\svkar\\\\Untitled Folder'"
      ]
     },
     "execution_count": 68,
     "metadata": {},
     "output_type": "execute_result"
    }
   ],
   "source": [
    "pwd"
   ]
  },
  {
   "cell_type": "code",
   "execution_count": 69,
   "id": "5700f5f4",
   "metadata": {},
   "outputs": [
    {
     "data": {
      "text/plain": [
       "'C:\\\\Users\\\\svkar\\\\Untitled Folder'"
      ]
     },
     "execution_count": 69,
     "metadata": {},
     "output_type": "execute_result"
    }
   ],
   "source": [
    "os.getcwd()"
   ]
  },
  {
   "cell_type": "code",
   "execution_count": 71,
   "id": "420a8188",
   "metadata": {},
   "outputs": [
    {
     "data": {
      "text/plain": [
       "['.ipynb_checkpoints',\n",
       " 'file handling sudhanshu class.ipynb',\n",
       " 'test.txt',\n",
       " 'test1.txt',\n",
       " 'test5.txt',\n",
       " 'text.txt']"
      ]
     },
     "execution_count": 71,
     "metadata": {},
     "output_type": "execute_result"
    }
   ],
   "source": [
    "os.listdir()"
   ]
  },
  {
   "cell_type": "code",
   "execution_count": 74,
   "id": "a04affed",
   "metadata": {},
   "outputs": [
    {
     "data": {
      "text/plain": [
       "['$RECYCLE.BIN',\n",
       " '3uTools',\n",
       " 'DFS',\n",
       " 'gdrive content',\n",
       " 'iphone12pro',\n",
       " 'System Volume Information']"
      ]
     },
     "execution_count": 74,
     "metadata": {},
     "output_type": "execute_result"
    }
   ],
   "source": [
    "os.listdir(\"D:\")"
   ]
  },
  {
   "cell_type": "code",
   "execution_count": 79,
   "id": "6aae0fad",
   "metadata": {},
   "outputs": [],
   "source": [
    "os.chdir(\"C:\\\\Users\\\\svkar\\\\Untitled Folder\")"
   ]
  },
  {
   "cell_type": "code",
   "execution_count": 80,
   "id": "ad1ee8f2",
   "metadata": {},
   "outputs": [
    {
     "data": {
      "text/plain": [
       "'C:\\\\Users\\\\svkar\\\\Untitled Folder'"
      ]
     },
     "execution_count": 80,
     "metadata": {},
     "output_type": "execute_result"
    }
   ],
   "source": [
    "pwd()"
   ]
  },
  {
   "cell_type": "code",
   "execution_count": 81,
   "id": "fdadc138",
   "metadata": {},
   "outputs": [],
   "source": [
    "os.mkdir(\"karthik\")"
   ]
  },
  {
   "cell_type": "code",
   "execution_count": 84,
   "id": "ee7d66b8",
   "metadata": {},
   "outputs": [
    {
     "data": {
      "text/plain": [
       "['.ipynb_checkpoints',\n",
       " 'file handling sudhanshu class.ipynb',\n",
       " 'karthik',\n",
       " 'test.txt',\n",
       " 'test1.txt',\n",
       " 'test5.txt',\n",
       " 'text.txt']"
      ]
     },
     "execution_count": 84,
     "metadata": {},
     "output_type": "execute_result"
    }
   ],
   "source": [
    "os.listdir()"
   ]
  },
  {
   "cell_type": "code",
   "execution_count": 91,
   "id": "e2b308cc",
   "metadata": {},
   "outputs": [
    {
     "name": "stdout",
     "output_type": "stream",
     "text": [
      " my file is available is and it has  : \n",
      "<_io.TextIOWrapper name='test.txt' mode='r+' encoding='cp1252'>\n",
      "edsafhg  ehdshsdahafhjvcxjh\n",
      "\n",
      "wdsaczkxbjhbd\n",
      "\n",
      "adshvghvas\n",
      "\n",
      "awdsjhbvhjgqeafs\n",
      "\n",
      "wdasvhgjwdasjknwdq\n",
      "\n",
      "wqdavjhwadsbvjkwd\n",
      "\n",
      "aswdjbvjhawdsbhk\n",
      "\n",
      "awsdjkbwajs\n"
     ]
    }
   ],
   "source": [
    "if \"test.txt\" in os.listdir():\n",
    "    print(\" my file is available is and it has  : \")\n",
    "    f=open(\"test.txt\",\"r+\")\n",
    "    print(f)\n",
    "    for i in f:\n",
    "        print(i)\n",
    "else:\n",
    "    print(\"not avaialble\")"
   ]
  },
  {
   "cell_type": "code",
   "execution_count": 101,
   "id": "5ef81290",
   "metadata": {},
   "outputs": [],
   "source": [
    "\n",
    "    os.mkdir(\"karthiks\")"
   ]
  },
  {
   "cell_type": "code",
   "execution_count": 102,
   "id": "99a19127",
   "metadata": {},
   "outputs": [
    {
     "data": {
      "text/plain": [
       "'C:\\\\Users\\\\svkar\\\\Untitled Folder'"
      ]
     },
     "execution_count": 102,
     "metadata": {},
     "output_type": "execute_result"
    }
   ],
   "source": [
    "pwd"
   ]
  },
  {
   "cell_type": "code",
   "execution_count": 103,
   "id": "fffba5a7",
   "metadata": {},
   "outputs": [],
   "source": [
    "os.mkdir(\"temp\")"
   ]
  },
  {
   "cell_type": "code",
   "execution_count": 104,
   "id": "531fd464",
   "metadata": {},
   "outputs": [
    {
     "data": {
      "text/plain": [
       "'C:\\\\Users\\\\svkar\\\\Untitled Folder'"
      ]
     },
     "execution_count": 104,
     "metadata": {},
     "output_type": "execute_result"
    }
   ],
   "source": [
    "pwd"
   ]
  },
  {
   "cell_type": "code",
   "execution_count": 106,
   "id": "4bf27ce2",
   "metadata": {},
   "outputs": [],
   "source": [
    "os.chdir(\"C:\\\\Users\\\\svkar\\\\Untitled Folder\\\\temp\")"
   ]
  },
  {
   "cell_type": "code",
   "execution_count": 107,
   "id": "229a6605",
   "metadata": {},
   "outputs": [
    {
     "data": {
      "text/plain": [
       "'C:\\\\Users\\\\svkar\\\\Untitled Folder\\\\temp'"
      ]
     },
     "execution_count": 107,
     "metadata": {},
     "output_type": "execute_result"
    }
   ],
   "source": [
    "pwd"
   ]
  },
  {
   "cell_type": "code",
   "execution_count": 119,
   "id": "896b7cbd",
   "metadata": {},
   "outputs": [],
   "source": [
    "for i in range(10):\n",
    "    f=open(\"text\"+str(i),\"x\")\n",
    "    f.write(\"karthik\"+str(i))\n",
    "    f.close()"
   ]
  },
  {
   "cell_type": "code",
   "execution_count": 127,
   "id": "678a68c9",
   "metadata": {},
   "outputs": [
    {
     "name": "stdout",
     "output_type": "stream",
     "text": [
      "karthik0\n",
      "karthik1\n",
      "karthik2\n",
      "karthik3\n",
      "karthik4\n",
      "karthik5\n",
      "karthik6\n",
      "karthik7\n",
      "karthik8\n",
      "karthik9\n"
     ]
    }
   ],
   "source": [
    "k=[]\n",
    "for i in range(10):\n",
    "    f=open(\"text\"+str(i),\"r+\")\n",
    "    #print(f)\n",
    "    for i in f:\n",
    "        k.append(i)\n",
    "        print(i)\n",
    "    f.close()"
   ]
  },
  {
   "cell_type": "code",
   "execution_count": 128,
   "id": "8d667fb9",
   "metadata": {},
   "outputs": [
    {
     "data": {
      "text/plain": [
       "['karthik0',\n",
       " 'karthik1',\n",
       " 'karthik2',\n",
       " 'karthik3',\n",
       " 'karthik4',\n",
       " 'karthik5',\n",
       " 'karthik6',\n",
       " 'karthik7',\n",
       " 'karthik8',\n",
       " 'karthik9']"
      ]
     },
     "execution_count": 128,
     "metadata": {},
     "output_type": "execute_result"
    }
   ],
   "source": [
    "k"
   ]
  },
  {
   "cell_type": "code",
   "execution_count": null,
   "id": "7f8d5274",
   "metadata": {},
   "outputs": [],
   "source": []
  }
 ],
 "metadata": {
  "kernelspec": {
   "display_name": "Python 3 (ipykernel)",
   "language": "python",
   "name": "python3"
  },
  "language_info": {
   "codemirror_mode": {
    "name": "ipython",
    "version": 3
   },
   "file_extension": ".py",
   "mimetype": "text/x-python",
   "name": "python",
   "nbconvert_exporter": "python",
   "pygments_lexer": "ipython3",
   "version": "3.9.7"
  }
 },
 "nbformat": 4,
 "nbformat_minor": 5
}
