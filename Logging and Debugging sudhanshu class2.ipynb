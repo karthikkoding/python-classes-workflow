{
 "cells": [
  {
   "cell_type": "code",
   "execution_count": 3,
   "id": "46ebd7c1",
   "metadata": {},
   "outputs": [],
   "source": [
    "import logging\n",
    "import os"
   ]
  },
  {
   "cell_type": "code",
   "execution_count": 4,
   "id": "038aa75b",
   "metadata": {},
   "outputs": [
    {
     "data": {
      "text/plain": [
       "'C:\\\\Users\\\\svkar\\\\Untitled Folder\\\\temp'"
      ]
     },
     "execution_count": 4,
     "metadata": {},
     "output_type": "execute_result"
    }
   ],
   "source": [
    "pwd"
   ]
  },
  {
   "cell_type": "code",
   "execution_count": 5,
   "id": "aa8c4259",
   "metadata": {},
   "outputs": [],
   "source": [
    "os.chdir('C:\\\\Users\\\\svkar\\\\Untitled Folder')"
   ]
  },
  {
   "cell_type": "code",
   "execution_count": 6,
   "id": "3edd02d8",
   "metadata": {},
   "outputs": [],
   "source": [
    "os.mkdir(\"logs\")"
   ]
  },
  {
   "cell_type": "code",
   "execution_count": 7,
   "id": "0a6ccecc",
   "metadata": {},
   "outputs": [
    {
     "data": {
      "text/plain": [
       "'C:\\\\Users\\\\svkar\\\\Untitled Folder'"
      ]
     },
     "execution_count": 7,
     "metadata": {},
     "output_type": "execute_result"
    }
   ],
   "source": [
    "pwd"
   ]
  },
  {
   "cell_type": "code",
   "execution_count": 12,
   "id": "8d1d5625",
   "metadata": {},
   "outputs": [],
   "source": [
    "os.chdir('C:\\\\Users\\\\svkar\\\\Untitled Folder'+ \"\\\\logs\")"
   ]
  },
  {
   "cell_type": "code",
   "execution_count": 13,
   "id": "d82c9b90",
   "metadata": {},
   "outputs": [
    {
     "data": {
      "text/plain": [
       "'C:\\\\Users\\\\svkar\\\\Untitled Folder\\\\logs'"
      ]
     },
     "execution_count": 13,
     "metadata": {},
     "output_type": "execute_result"
    }
   ],
   "source": [
    "pwd"
   ]
  },
  {
   "cell_type": "code",
   "execution_count": 14,
   "id": "531e24a9",
   "metadata": {},
   "outputs": [],
   "source": [
    "logging.basicConfig(filename=\"test.log\", level=logging.INFO)"
   ]
  },
  {
   "cell_type": "code",
   "execution_count": 60,
   "id": "c712199a",
   "metadata": {},
   "outputs": [],
   "source": [
    "def testf(*args):\n",
    "    for i in args:\n",
    "        sum=[]\n",
    "        sum=i+sum\n",
    "        logging.info(\" this is the current sum :\" + str(i) + str(sum))\n",
    "    return sum"
   ]
  },
  {
   "cell_type": "code",
   "execution_count": 56,
   "id": "5d0ed0df",
   "metadata": {},
   "outputs": [
    {
     "name": "stdout",
     "output_type": "stream",
     "text": [
      " no of input you want to give6\n",
      " please enter1\n",
      " please enter2\n",
      " please enter3\n",
      " please enter4\n",
      " please enter5\n",
      " please enter5\n"
     ]
    }
   ],
   "source": [
    "p=int(input(\" no of input you want to give\"))\n",
    "k=[]\n",
    "for i in range(p):\n",
    "    k.append(str(input(\" please enter\")))"
   ]
  },
  {
   "cell_type": "code",
   "execution_count": 63,
   "id": "89b88470",
   "metadata": {},
   "outputs": [],
   "source": [
    "logging.shutdown()"
   ]
  },
  {
   "cell_type": "code",
   "execution_count": 3,
   "id": "12963a9e",
   "metadata": {},
   "outputs": [
    {
     "name": "stderr",
     "output_type": "stream",
     "text": [
      "root - 2022-08-11 12:39:37,678 - INFO - main log\n",
      "root - 2022-08-11 12:39:37,678 - INFO - main log\n",
      "root - 2022-08-11 12:39:37,678 - INFO - main log\n",
      "user1 - 2022-08-11 12:39:37,682 - INFO - this is from user1 info\n",
      "user1 - 2022-08-11 12:39:37,682 - INFO - this is from user1 info\n",
      "user1 - 2022-08-11 12:39:37,682 - INFO - this is from user1 info\n",
      "user2 - 2022-08-11 12:39:37,684 - DEBUG - This is from user2 debug\n",
      "user2 - 2022-08-11 12:39:37,684 - DEBUG - This is from user2 debug\n",
      "user2 - 2022-08-11 12:39:37,684 - DEBUG - This is from user2 debug\n",
      "user1 - 2022-08-11 12:39:37,687 - DEBUG - this is from user1 debug\n",
      "user1 - 2022-08-11 12:39:37,687 - DEBUG - this is from user1 debug\n",
      "user1 - 2022-08-11 12:39:37,687 - DEBUG - this is from user1 debug\n",
      "user2 - 2022-08-11 12:39:37,689 - INFO - This is from user2 info\n",
      "user2 - 2022-08-11 12:39:37,689 - INFO - This is from user2 info\n",
      "user2 - 2022-08-11 12:39:37,689 - INFO - This is from user2 info\n"
     ]
    }
   ],
   "source": [
    "# logging_example.py\n",
    "\n",
    "import logging\n",
    "\n",
    "logging.basicConfig(filename='app1.log',level=logging.DEBUG,format = '%(name)s - %(asctime)s - %(levelname)s - %(message)s')\n",
    "\n",
    "# Create handlers\n",
    "console_log = logging.StreamHandler()\n",
    "console_log.setLevel(logging.DEBUG)\n",
    "format = logging.Formatter('%(name)s - %(asctime)s - %(levelname)s - %(message)s')\n",
    "console_log.setFormatter(format)\n",
    "# Create a custom logger\n",
    "logging.getLogger('').addHandler(console_log)\n",
    "logging.info('main log')\n",
    "logger1 = logging.getLogger('user1')\n",
    "logger2 = logging.getLogger('user2')\n",
    "logger1.info('this is from user1 info')\n",
    "logger2.debug('This is from user2 debug')\n",
    "logger1.debug('this is from user1 debug')\n",
    "logger2.info('This is from user2 info')"
   ]
  },
  {
   "cell_type": "code",
   "execution_count": 5,
   "id": "066f66fd",
   "metadata": {},
   "outputs": [],
   "source": [
    "def testdebug():\n",
    "    l=[]\n",
    "    for i in range(10):\n",
    "        l.append(i)\n",
    "        print(\"appended data\")\n",
    "    return l"
   ]
  },
  {
   "cell_type": "code",
   "execution_count": 6,
   "id": "25ad697a",
   "metadata": {},
   "outputs": [
    {
     "name": "stdout",
     "output_type": "stream",
     "text": [
      "appended data\n",
      "appended data\n",
      "appended data\n",
      "appended data\n",
      "appended data\n",
      "appended data\n",
      "appended data\n",
      "appended data\n",
      "appended data\n",
      "appended data\n"
     ]
    },
    {
     "data": {
      "text/plain": [
       "[0, 1, 2, 3, 4, 5, 6, 7, 8, 9]"
      ]
     },
     "execution_count": 6,
     "metadata": {},
     "output_type": "execute_result"
    }
   ],
   "source": [
    "testdebug()"
   ]
  },
  {
   "cell_type": "code",
   "execution_count": 7,
   "id": "826f209a",
   "metadata": {},
   "outputs": [
    {
     "name": "stderr",
     "output_type": "stream",
     "text": [
      "ERROR: Could not find a version that satisfies the requirement ipbd (from versions: none)\n",
      "ERROR: No matching distribution found for ipbd\n"
     ]
    }
   ],
   "source": [
    "!pip install ipbd "
   ]
  },
  {
   "cell_type": "code",
   "execution_count": 8,
   "id": "d1ffab13",
   "metadata": {},
   "outputs": [],
   "source": [
    "import ipdb"
   ]
  },
  {
   "cell_type": "code",
   "execution_count": 11,
   "id": "7f2065c6",
   "metadata": {},
   "outputs": [],
   "source": [
    "def testdebug():\n",
    "    ipdb.set_trace()\n",
    "    l=[]\n",
    "    for i in range(10):\n",
    "        for j in range(5):\n",
    "            l.append(i)\n",
    "            if i==4:\n",
    "                continue\n",
    "            print(\"appended data\")\n",
    "    return l"
   ]
  },
  {
   "cell_type": "code",
   "execution_count": 12,
   "id": "a8697e55",
   "metadata": {},
   "outputs": [
    {
     "name": "stdout",
     "output_type": "stream",
     "text": [
      "> \u001b[1;32mc:\\users\\svkar\\appdata\\local\\temp\\ipykernel_1536\\3609340501.py\u001b[0m(3)\u001b[0;36mtestdebug\u001b[1;34m()\u001b[0m\n",
      "\n",
      "ipdb> next\n",
      "> \u001b[1;32mc:\\users\\svkar\\appdata\\local\\temp\\ipykernel_1536\\3609340501.py\u001b[0m(4)\u001b[0;36mtestdebug\u001b[1;34m()\u001b[0m\n",
      "\n",
      "ipdb> next\n",
      "> \u001b[1;32mc:\\users\\svkar\\appdata\\local\\temp\\ipykernel_1536\\3609340501.py\u001b[0m(5)\u001b[0;36mtestdebug\u001b[1;34m()\u001b[0m\n",
      "\n",
      "ipdb> next\n",
      "> \u001b[1;32mc:\\users\\svkar\\appdata\\local\\temp\\ipykernel_1536\\3609340501.py\u001b[0m(6)\u001b[0;36mtestdebug\u001b[1;34m()\u001b[0m\n",
      "\n",
      "ipdb> next\n",
      "> \u001b[1;32mc:\\users\\svkar\\appdata\\local\\temp\\ipykernel_1536\\3609340501.py\u001b[0m(7)\u001b[0;36mtestdebug\u001b[1;34m()\u001b[0m\n",
      "\n",
      "ipdb> next\n",
      "> \u001b[1;32mc:\\users\\svkar\\appdata\\local\\temp\\ipykernel_1536\\3609340501.py\u001b[0m(9)\u001b[0;36mtestdebug\u001b[1;34m()\u001b[0m\n",
      "\n",
      "ipdb> next\n",
      "appended data\n",
      "> \u001b[1;32mc:\\users\\svkar\\appdata\\local\\temp\\ipykernel_1536\\3609340501.py\u001b[0m(5)\u001b[0;36mtestdebug\u001b[1;34m()\u001b[0m\n",
      "\n",
      "ipdb> next\n",
      "> \u001b[1;32mc:\\users\\svkar\\appdata\\local\\temp\\ipykernel_1536\\3609340501.py\u001b[0m(6)\u001b[0;36mtestdebug\u001b[1;34m()\u001b[0m\n",
      "\n",
      "ipdb> next\n",
      "> \u001b[1;32mc:\\users\\svkar\\appdata\\local\\temp\\ipykernel_1536\\3609340501.py\u001b[0m(7)\u001b[0;36mtestdebug\u001b[1;34m()\u001b[0m\n",
      "\n",
      "ipdb> next\n",
      "> \u001b[1;32mc:\\users\\svkar\\appdata\\local\\temp\\ipykernel_1536\\3609340501.py\u001b[0m(9)\u001b[0;36mtestdebug\u001b[1;34m()\u001b[0m\n",
      "\n",
      "ipdb> next\n",
      "appended data\n",
      "> \u001b[1;32mc:\\users\\svkar\\appdata\\local\\temp\\ipykernel_1536\\3609340501.py\u001b[0m(5)\u001b[0;36mtestdebug\u001b[1;34m()\u001b[0m\n",
      "\n",
      "ipdb> next\n",
      "> \u001b[1;32mc:\\users\\svkar\\appdata\\local\\temp\\ipykernel_1536\\3609340501.py\u001b[0m(6)\u001b[0;36mtestdebug\u001b[1;34m()\u001b[0m\n",
      "\n",
      "ipdb> next\n",
      "> \u001b[1;32mc:\\users\\svkar\\appdata\\local\\temp\\ipykernel_1536\\3609340501.py\u001b[0m(7)\u001b[0;36mtestdebug\u001b[1;34m()\u001b[0m\n",
      "\n",
      "ipdb> next\n",
      "> \u001b[1;32mc:\\users\\svkar\\appdata\\local\\temp\\ipykernel_1536\\3609340501.py\u001b[0m(9)\u001b[0;36mtestdebug\u001b[1;34m()\u001b[0m\n",
      "\n",
      "ipdb> next\n",
      "appended data\n",
      "> \u001b[1;32mc:\\users\\svkar\\appdata\\local\\temp\\ipykernel_1536\\3609340501.py\u001b[0m(5)\u001b[0;36mtestdebug\u001b[1;34m()\u001b[0m\n",
      "\n",
      "ipdb> next\n",
      "> \u001b[1;32mc:\\users\\svkar\\appdata\\local\\temp\\ipykernel_1536\\3609340501.py\u001b[0m(6)\u001b[0;36mtestdebug\u001b[1;34m()\u001b[0m\n",
      "\n",
      "ipdb> next\n",
      "> \u001b[1;32mc:\\users\\svkar\\appdata\\local\\temp\\ipykernel_1536\\3609340501.py\u001b[0m(7)\u001b[0;36mtestdebug\u001b[1;34m()\u001b[0m\n",
      "\n",
      "ipdb> next\n",
      "> \u001b[1;32mc:\\users\\svkar\\appdata\\local\\temp\\ipykernel_1536\\3609340501.py\u001b[0m(9)\u001b[0;36mtestdebug\u001b[1;34m()\u001b[0m\n",
      "\n",
      "ipdb> next\n",
      "appended data\n",
      "> \u001b[1;32mc:\\users\\svkar\\appdata\\local\\temp\\ipykernel_1536\\3609340501.py\u001b[0m(5)\u001b[0;36mtestdebug\u001b[1;34m()\u001b[0m\n",
      "\n",
      "ipdb> next\n",
      "> \u001b[1;32mc:\\users\\svkar\\appdata\\local\\temp\\ipykernel_1536\\3609340501.py\u001b[0m(6)\u001b[0;36mtestdebug\u001b[1;34m()\u001b[0m\n",
      "\n",
      "ipdb> next\n",
      "> \u001b[1;32mc:\\users\\svkar\\appdata\\local\\temp\\ipykernel_1536\\3609340501.py\u001b[0m(7)\u001b[0;36mtestdebug\u001b[1;34m()\u001b[0m\n",
      "\n",
      "ipdb> next\n",
      "> \u001b[1;32mc:\\users\\svkar\\appdata\\local\\temp\\ipykernel_1536\\3609340501.py\u001b[0m(9)\u001b[0;36mtestdebug\u001b[1;34m()\u001b[0m\n",
      "\n",
      "ipdb> next\n",
      "appended data\n",
      "> \u001b[1;32mc:\\users\\svkar\\appdata\\local\\temp\\ipykernel_1536\\3609340501.py\u001b[0m(5)\u001b[0;36mtestdebug\u001b[1;34m()\u001b[0m\n",
      "\n",
      "ipdb> next\n",
      "> \u001b[1;32mc:\\users\\svkar\\appdata\\local\\temp\\ipykernel_1536\\3609340501.py\u001b[0m(4)\u001b[0;36mtestdebug\u001b[1;34m()\u001b[0m\n",
      "\n",
      "ipdb> next\n",
      "> \u001b[1;32mc:\\users\\svkar\\appdata\\local\\temp\\ipykernel_1536\\3609340501.py\u001b[0m(5)\u001b[0;36mtestdebug\u001b[1;34m()\u001b[0m\n",
      "\n",
      "ipdb> next\n",
      "> \u001b[1;32mc:\\users\\svkar\\appdata\\local\\temp\\ipykernel_1536\\3609340501.py\u001b[0m(6)\u001b[0;36mtestdebug\u001b[1;34m()\u001b[0m\n",
      "\n",
      "ipdb> next\n",
      "> \u001b[1;32mc:\\users\\svkar\\appdata\\local\\temp\\ipykernel_1536\\3609340501.py\u001b[0m(7)\u001b[0;36mtestdebug\u001b[1;34m()\u001b[0m\n",
      "\n",
      "ipdb> next\n",
      "> \u001b[1;32mc:\\users\\svkar\\appdata\\local\\temp\\ipykernel_1536\\3609340501.py\u001b[0m(9)\u001b[0;36mtestdebug\u001b[1;34m()\u001b[0m\n",
      "\n",
      "ipdb> next\n",
      "appended data\n",
      "> \u001b[1;32mc:\\users\\svkar\\appdata\\local\\temp\\ipykernel_1536\\3609340501.py\u001b[0m(5)\u001b[0;36mtestdebug\u001b[1;34m()\u001b[0m\n",
      "\n",
      "ipdb> next\n",
      "> \u001b[1;32mc:\\users\\svkar\\appdata\\local\\temp\\ipykernel_1536\\3609340501.py\u001b[0m(6)\u001b[0;36mtestdebug\u001b[1;34m()\u001b[0m\n",
      "\n",
      "ipdb> next\n",
      "> \u001b[1;32mc:\\users\\svkar\\appdata\\local\\temp\\ipykernel_1536\\3609340501.py\u001b[0m(7)\u001b[0;36mtestdebug\u001b[1;34m()\u001b[0m\n",
      "\n",
      "ipdb> next\n",
      "> \u001b[1;32mc:\\users\\svkar\\appdata\\local\\temp\\ipykernel_1536\\3609340501.py\u001b[0m(9)\u001b[0;36mtestdebug\u001b[1;34m()\u001b[0m\n",
      "\n",
      "ipdb> next\n",
      "appended data\n",
      "> \u001b[1;32mc:\\users\\svkar\\appdata\\local\\temp\\ipykernel_1536\\3609340501.py\u001b[0m(5)\u001b[0;36mtestdebug\u001b[1;34m()\u001b[0m\n",
      "\n",
      "ipdb> next\n",
      "> \u001b[1;32mc:\\users\\svkar\\appdata\\local\\temp\\ipykernel_1536\\3609340501.py\u001b[0m(6)\u001b[0;36mtestdebug\u001b[1;34m()\u001b[0m\n",
      "\n",
      "ipdb> next\n",
      "> \u001b[1;32mc:\\users\\svkar\\appdata\\local\\temp\\ipykernel_1536\\3609340501.py\u001b[0m(7)\u001b[0;36mtestdebug\u001b[1;34m()\u001b[0m\n",
      "\n",
      "ipdb> next\n",
      "> \u001b[1;32mc:\\users\\svkar\\appdata\\local\\temp\\ipykernel_1536\\3609340501.py\u001b[0m(9)\u001b[0;36mtestdebug\u001b[1;34m()\u001b[0m\n",
      "\n",
      "ipdb> next\n",
      "appended data\n",
      "> \u001b[1;32mc:\\users\\svkar\\appdata\\local\\temp\\ipykernel_1536\\3609340501.py\u001b[0m(5)\u001b[0;36mtestdebug\u001b[1;34m()\u001b[0m\n",
      "\n",
      "ipdb> next\n",
      "> \u001b[1;32mc:\\users\\svkar\\appdata\\local\\temp\\ipykernel_1536\\3609340501.py\u001b[0m(6)\u001b[0;36mtestdebug\u001b[1;34m()\u001b[0m\n",
      "\n",
      "ipdb> next\n",
      "> \u001b[1;32mc:\\users\\svkar\\appdata\\local\\temp\\ipykernel_1536\\3609340501.py\u001b[0m(7)\u001b[0;36mtestdebug\u001b[1;34m()\u001b[0m\n",
      "\n",
      "ipdb> next\n",
      "> \u001b[1;32mc:\\users\\svkar\\appdata\\local\\temp\\ipykernel_1536\\3609340501.py\u001b[0m(9)\u001b[0;36mtestdebug\u001b[1;34m()\u001b[0m\n",
      "\n",
      "ipdb> next\n",
      "appended data\n",
      "> \u001b[1;32mc:\\users\\svkar\\appdata\\local\\temp\\ipykernel_1536\\3609340501.py\u001b[0m(5)\u001b[0;36mtestdebug\u001b[1;34m()\u001b[0m\n",
      "\n",
      "ipdb> next\n",
      "> \u001b[1;32mc:\\users\\svkar\\appdata\\local\\temp\\ipykernel_1536\\3609340501.py\u001b[0m(6)\u001b[0;36mtestdebug\u001b[1;34m()\u001b[0m\n",
      "\n",
      "ipdb> next\n",
      "> \u001b[1;32mc:\\users\\svkar\\appdata\\local\\temp\\ipykernel_1536\\3609340501.py\u001b[0m(7)\u001b[0;36mtestdebug\u001b[1;34m()\u001b[0m\n",
      "\n",
      "ipdb> next\n",
      "> \u001b[1;32mc:\\users\\svkar\\appdata\\local\\temp\\ipykernel_1536\\3609340501.py\u001b[0m(9)\u001b[0;36mtestdebug\u001b[1;34m()\u001b[0m\n",
      "\n",
      "ipdb> next\n",
      "appended data\n",
      "> \u001b[1;32mc:\\users\\svkar\\appdata\\local\\temp\\ipykernel_1536\\3609340501.py\u001b[0m(5)\u001b[0;36mtestdebug\u001b[1;34m()\u001b[0m\n",
      "\n",
      "ipdb> next\n",
      "> \u001b[1;32mc:\\users\\svkar\\appdata\\local\\temp\\ipykernel_1536\\3609340501.py\u001b[0m(4)\u001b[0;36mtestdebug\u001b[1;34m()\u001b[0m\n",
      "\n",
      "ipdb> next\n",
      "> \u001b[1;32mc:\\users\\svkar\\appdata\\local\\temp\\ipykernel_1536\\3609340501.py\u001b[0m(5)\u001b[0;36mtestdebug\u001b[1;34m()\u001b[0m\n",
      "\n",
      "ipdb> next\n",
      "> \u001b[1;32mc:\\users\\svkar\\appdata\\local\\temp\\ipykernel_1536\\3609340501.py\u001b[0m(6)\u001b[0;36mtestdebug\u001b[1;34m()\u001b[0m\n",
      "\n",
      "ipdb> next\n",
      "> \u001b[1;32mc:\\users\\svkar\\appdata\\local\\temp\\ipykernel_1536\\3609340501.py\u001b[0m(7)\u001b[0;36mtestdebug\u001b[1;34m()\u001b[0m\n",
      "\n",
      "ipdb> next\n",
      "> \u001b[1;32mc:\\users\\svkar\\appdata\\local\\temp\\ipykernel_1536\\3609340501.py\u001b[0m(9)\u001b[0;36mtestdebug\u001b[1;34m()\u001b[0m\n",
      "\n",
      "ipdb> next\n",
      "appended data\n",
      "> \u001b[1;32mc:\\users\\svkar\\appdata\\local\\temp\\ipykernel_1536\\3609340501.py\u001b[0m(5)\u001b[0;36mtestdebug\u001b[1;34m()\u001b[0m\n",
      "\n",
      "ipdb> next\n",
      "> \u001b[1;32mc:\\users\\svkar\\appdata\\local\\temp\\ipykernel_1536\\3609340501.py\u001b[0m(6)\u001b[0;36mtestdebug\u001b[1;34m()\u001b[0m\n",
      "\n",
      "ipdb> next\n",
      "> \u001b[1;32mc:\\users\\svkar\\appdata\\local\\temp\\ipykernel_1536\\3609340501.py\u001b[0m(7)\u001b[0;36mtestdebug\u001b[1;34m()\u001b[0m\n",
      "\n",
      "ipdb> next\n",
      "> \u001b[1;32mc:\\users\\svkar\\appdata\\local\\temp\\ipykernel_1536\\3609340501.py\u001b[0m(9)\u001b[0;36mtestdebug\u001b[1;34m()\u001b[0m\n",
      "\n",
      "ipdb> c\n",
      "appended data\n",
      "appended data\n",
      "appended data\n",
      "appended data\n",
      "appended data\n",
      "appended data\n",
      "appended data\n",
      "appended data\n",
      "appended data\n",
      "appended data\n",
      "appended data\n",
      "appended data\n",
      "appended data\n",
      "appended data\n",
      "appended data\n",
      "appended data\n",
      "appended data\n",
      "appended data\n",
      "appended data\n",
      "appended data\n",
      "appended data\n",
      "appended data\n",
      "appended data\n",
      "appended data\n",
      "appended data\n",
      "appended data\n",
      "appended data\n",
      "appended data\n",
      "appended data\n",
      "appended data\n",
      "appended data\n",
      "appended data\n",
      "appended data\n",
      "appended data\n"
     ]
    },
    {
     "data": {
      "text/plain": [
       "[0,\n",
       " 0,\n",
       " 0,\n",
       " 0,\n",
       " 0,\n",
       " 1,\n",
       " 1,\n",
       " 1,\n",
       " 1,\n",
       " 1,\n",
       " 2,\n",
       " 2,\n",
       " 2,\n",
       " 2,\n",
       " 2,\n",
       " 3,\n",
       " 3,\n",
       " 3,\n",
       " 3,\n",
       " 3,\n",
       " 4,\n",
       " 4,\n",
       " 4,\n",
       " 4,\n",
       " 4,\n",
       " 5,\n",
       " 5,\n",
       " 5,\n",
       " 5,\n",
       " 5,\n",
       " 6,\n",
       " 6,\n",
       " 6,\n",
       " 6,\n",
       " 6,\n",
       " 7,\n",
       " 7,\n",
       " 7,\n",
       " 7,\n",
       " 7,\n",
       " 8,\n",
       " 8,\n",
       " 8,\n",
       " 8,\n",
       " 8,\n",
       " 9,\n",
       " 9,\n",
       " 9,\n",
       " 9,\n",
       " 9]"
      ]
     },
     "execution_count": 12,
     "metadata": {},
     "output_type": "execute_result"
    }
   ],
   "source": [
    "testdebug()"
   ]
  },
  {
   "cell_type": "code",
   "execution_count": null,
   "id": "a0b167ef",
   "metadata": {},
   "outputs": [],
   "source": []
  }
 ],
 "metadata": {
  "kernelspec": {
   "display_name": "Python 3 (ipykernel)",
   "language": "python",
   "name": "python3"
  },
  "language_info": {
   "codemirror_mode": {
    "name": "ipython",
    "version": 3
   },
   "file_extension": ".py",
   "mimetype": "text/x-python",
   "name": "python",
   "nbconvert_exporter": "python",
   "pygments_lexer": "ipython3",
   "version": "3.9.7"
  }
 },
 "nbformat": 4,
 "nbformat_minor": 5
}
