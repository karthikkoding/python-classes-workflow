{
 "cells": [
  {
   "cell_type": "code",
   "execution_count": 1,
   "id": "d71452f5",
   "metadata": {},
   "outputs": [],
   "source": [
    "l= list ()"
   ]
  },
  {
   "cell_type": "code",
   "execution_count": 2,
   "id": "489a6bac",
   "metadata": {},
   "outputs": [],
   "source": [
    "name=\"karthik\"\n",
    "phone_num=7997563735\n",
    "address= \"birldham\"\n",
    "\n",
    "#here are using multiple variables"
   ]
  },
  {
   "cell_type": "code",
   "execution_count": 3,
   "id": "0abb1353",
   "metadata": {},
   "outputs": [],
   "source": [
    "l= [\"karthik\",7997563735 , \"Birladham\"]"
   ]
  },
  {
   "cell_type": "code",
   "execution_count": 4,
   "id": "57497cc8",
   "metadata": {},
   "outputs": [
    {
     "data": {
      "text/plain": [
       "'karthik'"
      ]
     },
     "execution_count": 4,
     "metadata": {},
     "output_type": "execute_result"
    }
   ],
   "source": [
    "l[0]"
   ]
  },
  {
   "cell_type": "code",
   "execution_count": 6,
   "id": "c1c3f60d",
   "metadata": {},
   "outputs": [
    {
     "data": {
      "text/plain": [
       "int"
      ]
     },
     "execution_count": 6,
     "metadata": {},
     "output_type": "execute_result"
    }
   ],
   "source": [
    "type(l[1])"
   ]
  },
  {
   "cell_type": "code",
   "execution_count": 7,
   "id": "6d6faafe",
   "metadata": {},
   "outputs": [
    {
     "data": {
      "text/plain": [
       "list"
      ]
     },
     "execution_count": 7,
     "metadata": {},
     "output_type": "execute_result"
    }
   ],
   "source": [
    "type(l)"
   ]
  },
  {
   "cell_type": "code",
   "execution_count": 8,
   "id": "ec917a9e",
   "metadata": {},
   "outputs": [],
   "source": [
    "l2= [\"karthik\", 8767987, 5+7j,[\"karthik\",7997563735 , \"Birladham\"],9.788]"
   ]
  },
  {
   "cell_type": "code",
   "execution_count": 18,
   "id": "3ba44879",
   "metadata": {},
   "outputs": [
    {
     "data": {
      "text/plain": [
       "[str, int, complex, list, float]"
      ]
     },
     "execution_count": 18,
     "metadata": {},
     "output_type": "execute_result"
    }
   ],
   "source": [
    "[type(i) for i in l2]"
   ]
  },
  {
   "cell_type": "code",
   "execution_count": 23,
   "id": "db4ca329",
   "metadata": {},
   "outputs": [],
   "source": [
    "  s= \"karthik\\tkarthik videos\\tvideos\\ttdata\""
   ]
  },
  {
   "cell_type": "code",
   "execution_count": 24,
   "id": "683c704b",
   "metadata": {},
   "outputs": [
    {
     "data": {
      "text/plain": [
       "'karthik karthik videos  videos  tdata'"
      ]
     },
     "execution_count": 24,
     "metadata": {},
     "output_type": "execute_result"
    }
   ],
   "source": [
    "s.expandtabs()"
   ]
  },
  {
   "cell_type": "code",
   "execution_count": 26,
   "id": "76e2cc2d",
   "metadata": {},
   "outputs": [],
   "source": [
    "a= \" we all are a part of Full Stack\"\n"
   ]
  },
  {
   "cell_type": "code",
   "execution_count": 27,
   "id": "2ff8af3b",
   "metadata": {},
   "outputs": [
    {
     "data": {
      "text/plain": [
       "' we all are a part of full stack'"
      ]
     },
     "execution_count": 27,
     "metadata": {},
     "output_type": "execute_result"
    }
   ],
   "source": [
    "a.lower()"
   ]
  },
  {
   "cell_type": "code",
   "execution_count": 36,
   "id": "20be8387",
   "metadata": {},
   "outputs": [
    {
     "data": {
      "text/plain": [
       "5"
      ]
     },
     "execution_count": 36,
     "metadata": {},
     "output_type": "execute_result"
    }
   ],
   "source": [
    "c=0\n",
    "d=[]\n",
    "for i in range(len(a)):\n",
    "    if a[i]==\"a\":\n",
    "        d.append(i)\n",
    "        c=c+1\n"
   ]
  },
  {
   "cell_type": "code",
   "execution_count": 31,
   "id": "7d9d3d26",
   "metadata": {},
   "outputs": [
    {
     "data": {
      "text/plain": [
       "5"
      ]
     },
     "execution_count": 31,
     "metadata": {},
     "output_type": "execute_result"
    }
   ],
   "source": [
    "len([i for i in a if i==\"a\"])"
   ]
  },
  {
   "cell_type": "code",
   "execution_count": null,
   "id": "1585465b",
   "metadata": {},
   "outputs": [],
   "source": []
  },
  {
   "cell_type": "code",
   "execution_count": 41,
   "id": "11540929",
   "metadata": {},
   "outputs": [
    {
     "data": {
      "text/plain": [
       "' we all are a part of Full Stack'"
      ]
     },
     "execution_count": 41,
     "metadata": {},
     "output_type": "execute_result"
    }
   ],
   "source": [
    "a"
   ]
  },
  {
   "cell_type": "code",
   "execution_count": 44,
   "id": "2080b98e",
   "metadata": {},
   "outputs": [
    {
     "name": "stdout",
     "output_type": "stream",
     "text": [
      " we iNeuronll iNeuronre iNeuron piNeuronrt of Full StiNeuronck\n"
     ]
    }
   ],
   "source": [
    "if a.find(\"a\"):\n",
    "    print(a.replace(\"a\",\"iNeuron\"))"
   ]
  },
  {
   "cell_type": "code",
   "execution_count": 43,
   "id": "28620dde",
   "metadata": {},
   "outputs": [
    {
     "data": {
      "text/plain": [
       "' we all are a part of Full Stack'"
      ]
     },
     "execution_count": 43,
     "metadata": {},
     "output_type": "execute_result"
    }
   ],
   "source": [
    "a"
   ]
  },
  {
   "cell_type": "code",
   "execution_count": 46,
   "id": "2dc7b674",
   "metadata": {},
   "outputs": [
    {
     "data": {
      "text/plain": [
       "['we', 'all', 'are', 'a', 'part', 'of', 'Full', 'Stack']"
      ]
     },
     "execution_count": 46,
     "metadata": {},
     "output_type": "execute_result"
    }
   ],
   "source": [
    "a.split()"
   ]
  },
  {
   "cell_type": "code",
   "execution_count": 52,
   "id": "9dccc5c8",
   "metadata": {},
   "outputs": [
    {
     "name": "stdout",
     "output_type": "stream",
     "text": [
      "k\n",
      "k\n",
      "k\n",
      "i\n",
      "h\n",
      "t\n",
      "r\n",
      "a\n"
     ]
    }
   ],
   "source": [
    "#reverse string without for , without reverse function\n",
    "\n",
    "a1=\"karthikkk\"\n",
    "i=1\n",
    "while i<len(a1):\n",
    "    print(a1[len(a1)-i])\n",
    "    i=i+1"
   ]
  },
  {
   "cell_type": "code",
   "execution_count": 54,
   "id": "7e75934a",
   "metadata": {},
   "outputs": [
    {
     "name": "stdout",
     "output_type": "stream",
     "text": [
      "k\n",
      "k\n",
      "k\n",
      "i\n",
      "h\n",
      "t\n",
      "r\n",
      "a\n",
      "k\n"
     ]
    }
   ],
   "source": [
    "ch=len(a1)-1\n",
    "while ch>=0:\n",
    "    print(a1[ch])\n",
    "    ch=ch-1"
   ]
  },
  {
   "cell_type": "code",
   "execution_count": 60,
   "id": "80e422d2",
   "metadata": {},
   "outputs": [
    {
     "name": "stdout",
     "output_type": "stream",
     "text": [
      "there is a vowel here\n",
      "there is a vowel here\n",
      "there is a vowel here\n",
      "there is a vowel here\n"
     ]
    }
   ],
   "source": [
    "name= \"ineuron\"\n",
    "vowels=\"AaEeIiOoUu\"\n",
    "for i in name:\n",
    "    for j in vowels:\n",
    "        if i==j:\n",
    "            print(\"there is a vowel here\")"
   ]
  },
  {
   "cell_type": "code",
   "execution_count": 62,
   "id": "40d623e4",
   "metadata": {},
   "outputs": [
    {
     "name": "stdout",
     "output_type": "stream",
     "text": [
      "i is a vowel\n",
      "n is not a vowel\n",
      "e is a vowel\n",
      "u is a vowel\n",
      "r is not a vowel\n",
      "o is a vowel\n",
      "n is not a vowel\n"
     ]
    }
   ],
   "source": [
    "for i in name:\n",
    "    if i in vowels:\n",
    "        print(\"{} is a vowel\". format(i))\n",
    "    else:\n",
    "        print(\"{} is not a vowel\".format(i))"
   ]
  },
  {
   "cell_type": "code",
   "execution_count": 66,
   "id": "622a38af",
   "metadata": {},
   "outputs": [
    {
     "name": "stdout",
     "output_type": "stream",
     "text": [
      "karthik is a good boy, but he is sometimes rude\n"
     ]
    }
   ],
   "source": [
    "myname= \"{a1} is a {a2} boy, but he is sometimes {a3}\"\n",
    "print(myname.format(a1=\"karthik\", a2=\"good\", a3=\"rude\"))"
   ]
  },
  {
   "cell_type": "code",
   "execution_count": 67,
   "id": "3f278ed3",
   "metadata": {},
   "outputs": [],
   "source": [
    "a=\"malayalam\""
   ]
  },
  {
   "cell_type": "code",
   "execution_count": 76,
   "id": "a1ad8768",
   "metadata": {},
   "outputs": [
    {
     "name": "stdout",
     "output_type": "stream",
     "text": [
      "enter a palidromegefwsud\n"
     ]
    }
   ],
   "source": [
    "a=input(\"enter a palidrome\")\n",
    "a2=a[::-1]"
   ]
  },
  {
   "cell_type": "code",
   "execution_count": 77,
   "id": "6572e553",
   "metadata": {},
   "outputs": [
    {
     "name": "stdout",
     "output_type": "stream",
     "text": [
      "no it is not\n"
     ]
    }
   ],
   "source": [
    "if a==a2:\n",
    "    print(\"yes it is a palindrome\")\n",
    "else:\n",
    "    print(\"no it is not\")"
   ]
  },
  {
   "cell_type": "code",
   "execution_count": null,
   "id": "4761a989",
   "metadata": {},
   "outputs": [],
   "source": []
  },
  {
   "cell_type": "code",
   "execution_count": null,
   "id": "99d09f49",
   "metadata": {},
   "outputs": [],
   "source": []
  }
 ],
 "metadata": {
  "kernelspec": {
   "display_name": "Python 3 (ipykernel)",
   "language": "python",
   "name": "python3"
  },
  "language_info": {
   "codemirror_mode": {
    "name": "ipython",
    "version": 3
   },
   "file_extension": ".py",
   "mimetype": "text/x-python",
   "name": "python",
   "nbconvert_exporter": "python",
   "pygments_lexer": "ipython3",
   "version": "3.9.7"
  }
 },
 "nbformat": 4,
 "nbformat_minor": 5
}
